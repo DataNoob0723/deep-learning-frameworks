{
 "cells": [
  {
   "cell_type": "code",
   "execution_count": 15,
   "metadata": {},
   "outputs": [],
   "source": [
    "# Import dependencies\n",
    "import numpy as np\n",
    "import torch\n",
    "import torch.nn as nn\n",
    "import torchvision\n",
    "import torchvision.transforms as transforms\n",
    "import matplotlib.pyplot as plt"
   ]
  },
  {
   "cell_type": "code",
   "execution_count": 7,
   "metadata": {},
   "outputs": [
    {
     "name": "stdout",
     "output_type": "stream",
     "text": [
      "Downloading http://yann.lecun.com/exdb/mnist/train-images-idx3-ubyte.gz to ./data\\MNIST\\raw\\train-images-idx3-ubyte.gz\n"
     ]
    },
    {
     "name": "stderr",
     "output_type": "stream",
     "text": [
      "9920512it [00:06, 636081.66it/s]                                               \n"
     ]
    },
    {
     "name": "stdout",
     "output_type": "stream",
     "text": [
      "Extracting ./data\\MNIST\\raw\\train-images-idx3-ubyte.gz\n",
      "Downloading http://yann.lecun.com/exdb/mnist/train-labels-idx1-ubyte.gz to ./data\\MNIST\\raw\\train-labels-idx1-ubyte.gz\n"
     ]
    },
    {
     "name": "stderr",
     "output_type": "stream",
     "text": [
      "32768it [00:01, 26574.31it/s]                                                  \n"
     ]
    },
    {
     "name": "stdout",
     "output_type": "stream",
     "text": [
      "Extracting ./data\\MNIST\\raw\\train-labels-idx1-ubyte.gz\n",
      "Downloading http://yann.lecun.com/exdb/mnist/t10k-images-idx3-ubyte.gz to ./data\\MNIST\\raw\\t10k-images-idx3-ubyte.gz\n"
     ]
    },
    {
     "name": "stderr",
     "output_type": "stream",
     "text": [
      "1654784it [00:02, 647121.36it/s]                                               \n"
     ]
    },
    {
     "name": "stdout",
     "output_type": "stream",
     "text": [
      "Extracting ./data\\MNIST\\raw\\t10k-images-idx3-ubyte.gz\n",
      "Downloading http://yann.lecun.com/exdb/mnist/t10k-labels-idx1-ubyte.gz to ./data\\MNIST\\raw\\t10k-labels-idx1-ubyte.gz\n"
     ]
    },
    {
     "name": "stderr",
     "output_type": "stream",
     "text": [
      "8192it [00:00, 48759.21it/s]                                                   \n"
     ]
    },
    {
     "name": "stdout",
     "output_type": "stream",
     "text": [
      "Extracting ./data\\MNIST\\raw\\t10k-labels-idx1-ubyte.gz\n",
      "Processing...\n",
      "Done!\n"
     ]
    }
   ],
   "source": [
    "# Load the data\n",
    "train_dataset = torchvision.datasets.MNIST(root='./data',train=True, transform=transforms.ToTensor(), download=True)\n",
    "test_dataset = torchvision.datasets.MNIST(root='./data',train=False, transform=transforms.ToTensor(), download=True)\n",
    "train_loader = torch.utils.data.DataLoader(dataset=train_dataset, batch_size=100, shuffle=True)\n",
    "test_loader = torch.utils.data.DataLoader(dataset=test_dataset,  batch_size=100, shuffle=False)"
   ]
  },
  {
   "cell_type": "code",
   "execution_count": 9,
   "metadata": {},
   "outputs": [],
   "source": [
    "# Define our neural network\n",
    "class NeuralNet(nn.Module):\n",
    "    def __init__(self, input_size, hidden_size, output_size):\n",
    "        super(NeuralNet, self).__init__()\n",
    "        self.layer1 = nn.Linear(input_size, hidden_size)\n",
    "        self.layer2 = nn.Linear(hidden_size, output_size)\n",
    "        self.relu = nn.ReLU()\n",
    "    \n",
    "    def forward(self, x):\n",
    "        output = self.layer1(x)\n",
    "        output = self.relu(output)\n",
    "        output = self.layer2(output)\n",
    "        \n",
    "        return output"
   ]
  },
  {
   "cell_type": "code",
   "execution_count": 10,
   "metadata": {},
   "outputs": [],
   "source": [
    "input_size = 28 * 28\n",
    "hidden_size = 500\n",
    "output_size = 10\n",
    "n_epochs = 10\n",
    "lr = 0.01\n",
    "\n",
    "model = NeuralNet(input_size, hidden_size, output_size)\n",
    "\n",
    "loss_func = nn.CrossEntropyLoss()\n",
    "optimizer = torch.optim.Adam(model.parameters(), lr=lr)"
   ]
  },
  {
   "cell_type": "code",
   "execution_count": 12,
   "metadata": {},
   "outputs": [
    {
     "name": "stdout",
     "output_type": "stream",
     "text": [
      "<class 'torch.utils.data.dataloader.DataLoader'>\n"
     ]
    }
   ],
   "source": [
    "print(type(train_loader))"
   ]
  },
  {
   "cell_type": "code",
   "execution_count": 11,
   "metadata": {},
   "outputs": [
    {
     "name": "stdout",
     "output_type": "stream",
     "text": [
      "600\n"
     ]
    }
   ],
   "source": [
    "total_step = len(train_loader)\n",
    "print(total_step)"
   ]
  },
  {
   "cell_type": "code",
   "execution_count": 13,
   "metadata": {},
   "outputs": [],
   "source": [
    "def show_batch(batch):\n",
    "    im = torchvision.utils.make_grid(batch)\n",
    "    plt.imshow(np.transpose(im.numpy(), (1, 2, 0)))"
   ]
  },
  {
   "cell_type": "code",
   "execution_count": 16,
   "metadata": {
    "scrolled": true
   },
   "outputs": [
    {
     "name": "stdout",
     "output_type": "stream",
     "text": [
      "Epoch [1/10], Step [100/600], Loss: 0.1855\n",
      "Epoch [1/10], Step [200/600], Loss: 0.1866\n",
      "Epoch [1/10], Step [300/600], Loss: 0.1239\n",
      "Epoch [1/10], Step [400/600], Loss: 0.2934\n",
      "Epoch [1/10], Step [500/600], Loss: 0.1318\n",
      "Epoch [1/10], Step [600/600], Loss: 0.1216\n",
      "Epoch [2/10], Step [100/600], Loss: 0.0535\n",
      "Epoch [2/10], Step [200/600], Loss: 0.1821\n",
      "Epoch [2/10], Step [300/600], Loss: 0.1435\n",
      "Epoch [2/10], Step [400/600], Loss: 0.1499\n",
      "Epoch [2/10], Step [500/600], Loss: 0.0577\n",
      "Epoch [2/10], Step [600/600], Loss: 0.0995\n",
      "Epoch [3/10], Step [100/600], Loss: 0.0218\n",
      "Epoch [3/10], Step [200/600], Loss: 0.0083\n",
      "Epoch [3/10], Step [300/600], Loss: 0.0440\n",
      "Epoch [3/10], Step [400/600], Loss: 0.0368\n",
      "Epoch [3/10], Step [500/600], Loss: 0.1842\n",
      "Epoch [3/10], Step [600/600], Loss: 0.0190\n",
      "Epoch [4/10], Step [100/600], Loss: 0.0583\n",
      "Epoch [4/10], Step [200/600], Loss: 0.0703\n",
      "Epoch [4/10], Step [300/600], Loss: 0.0597\n",
      "Epoch [4/10], Step [400/600], Loss: 0.0366\n",
      "Epoch [4/10], Step [500/600], Loss: 0.1811\n",
      "Epoch [4/10], Step [600/600], Loss: 0.0942\n",
      "Epoch [5/10], Step [100/600], Loss: 0.0371\n",
      "Epoch [5/10], Step [200/600], Loss: 0.0384\n",
      "Epoch [5/10], Step [300/600], Loss: 0.0548\n",
      "Epoch [5/10], Step [400/600], Loss: 0.0657\n",
      "Epoch [5/10], Step [500/600], Loss: 0.0823\n",
      "Epoch [5/10], Step [600/600], Loss: 0.1545\n",
      "Epoch [6/10], Step [100/600], Loss: 0.0204\n",
      "Epoch [6/10], Step [200/600], Loss: 0.0343\n",
      "Epoch [6/10], Step [300/600], Loss: 0.0169\n",
      "Epoch [6/10], Step [400/600], Loss: 0.0252\n",
      "Epoch [6/10], Step [500/600], Loss: 0.1957\n",
      "Epoch [6/10], Step [600/600], Loss: 0.2205\n",
      "Epoch [7/10], Step [100/600], Loss: 0.1293\n",
      "Epoch [7/10], Step [200/600], Loss: 0.0761\n",
      "Epoch [7/10], Step [300/600], Loss: 0.1465\n",
      "Epoch [7/10], Step [400/600], Loss: 0.0180\n",
      "Epoch [7/10], Step [500/600], Loss: 0.1226\n",
      "Epoch [7/10], Step [600/600], Loss: 0.0302\n",
      "Epoch [8/10], Step [100/600], Loss: 0.1884\n",
      "Epoch [8/10], Step [200/600], Loss: 0.0168\n",
      "Epoch [8/10], Step [300/600], Loss: 0.0073\n",
      "Epoch [8/10], Step [400/600], Loss: 0.0114\n",
      "Epoch [8/10], Step [500/600], Loss: 0.0296\n",
      "Epoch [8/10], Step [600/600], Loss: 0.0640\n",
      "Epoch [9/10], Step [100/600], Loss: 0.0549\n",
      "Epoch [9/10], Step [200/600], Loss: 0.0134\n",
      "Epoch [9/10], Step [300/600], Loss: 0.0085\n",
      "Epoch [9/10], Step [400/600], Loss: 0.0217\n",
      "Epoch [9/10], Step [500/600], Loss: 0.0212\n",
      "Epoch [9/10], Step [600/600], Loss: 0.1527\n",
      "Epoch [10/10], Step [100/600], Loss: 0.0045\n",
      "Epoch [10/10], Step [200/600], Loss: 0.1272\n",
      "Epoch [10/10], Step [300/600], Loss: 0.0897\n",
      "Epoch [10/10], Step [400/600], Loss: 0.0270\n",
      "Epoch [10/10], Step [500/600], Loss: 0.0256\n",
      "Epoch [10/10], Step [600/600], Loss: 0.1269\n"
     ]
    },
    {
     "data": {
      "image/png": "[encoded data removed]",
      "text/plain": [
       "<Figure size 432x288 with 1 Axes>"
      ]
     },
     "metadata": {},
     "output_type": "display_data"
    }
   ],
   "source": [
    "for epoch in range(n_epochs):\n",
    "    for i, (images, labels) in enumerate(train_loader):\n",
    "        images = images.reshape(-1, 28 * 28)\n",
    "        show_batch(images)\n",
    "        out = model(images)\n",
    "        loss = loss_func(out, labels)\n",
    "        \n",
    "        optimizer.zero_grad()\n",
    "        loss.backward()\n",
    "        optimizer.step()\n",
    "        \n",
    "        if (i + 1) % 100 == 0:\n",
    "            print('Epoch [{}/{}], Step [{}/{}], Loss: {:.4f}'.format(epoch + 1, n_epochs, i + 1, total_step, loss.item()))"
   ]
  },
  {
   "cell_type": "code",
   "execution_count": 18,
   "metadata": {},
   "outputs": [
    {
     "name": "stdout",
     "output_type": "stream",
     "text": [
      "100\n"
     ]
    }
   ],
   "source": [
    "print(len(test_loader))"
   ]
  },
  {
   "cell_type": "code",
   "execution_count": 17,
   "metadata": {
    "scrolled": true
   },
   "outputs": [
    {
     "name": "stdout",
     "output_type": "stream",
     "text": [
      "Accuracy of the network on the 10000 test images: 100.0 %\n",
      "Accuracy of the network on the 10000 test images: 98.5 %\n",
      "Accuracy of the network on the 10000 test images: 98.0 %\n",
      "Accuracy of the network on the 10000 test images: 97.25 %\n",
      "Accuracy of the network on the 10000 test images: 97.4 %\n",
      "Accuracy of the network on the 10000 test images: 97.5 %\n",
      "Accuracy of the network on the 10000 test images: 96.85714285714286 %\n",
      "Accuracy of the network on the 10000 test images: 96.625 %\n",
      "Accuracy of the network on the 10000 test images: 96.66666666666667 %\n",
      "Accuracy of the network on the 10000 test images: 96.5 %\n",
      "Accuracy of the network on the 10000 test images: 96.45454545454545 %\n",
      "Accuracy of the network on the 10000 test images: 96.41666666666667 %\n",
      "Accuracy of the network on the 10000 test images: 96.15384615384616 %\n",
      "Accuracy of the network on the 10000 test images: 96.0 %\n",
      "Accuracy of the network on the 10000 test images: 96.2 %\n",
      "Accuracy of the network on the 10000 test images: 96.125 %\n",
      "Accuracy of the network on the 10000 test images: 96.05882352941177 %\n",
      "Accuracy of the network on the 10000 test images: 96.0 %\n",
      "Accuracy of the network on the 10000 test images: 96.05263157894737 %\n",
      "Accuracy of the network on the 10000 test images: 96.1 %\n",
      "Accuracy of the network on the 10000 test images: 96.0 %\n",
      "Accuracy of the network on the 10000 test images: 96.0 %\n",
      "Accuracy of the network on the 10000 test images: 96.0 %\n",
      "Accuracy of the network on the 10000 test images: 96.0 %\n",
      "Accuracy of the network on the 10000 test images: 95.84 %\n",
      "Accuracy of the network on the 10000 test images: 95.92307692307692 %\n",
      "Accuracy of the network on the 10000 test images: 95.92592592592592 %\n",
      "Accuracy of the network on the 10000 test images: 95.96428571428571 %\n",
      "Accuracy of the network on the 10000 test images: 96.03448275862068 %\n",
      "Accuracy of the network on the 10000 test images: 96.0 %\n",
      "Accuracy of the network on the 10000 test images: 96.0 %\n",
      "Accuracy of the network on the 10000 test images: 96.0 %\n",
      "Accuracy of the network on the 10000 test images: 96.0 %\n",
      "Accuracy of the network on the 10000 test images: 95.97058823529412 %\n",
      "Accuracy of the network on the 10000 test images: 96.0 %\n",
      "Accuracy of the network on the 10000 test images: 95.94444444444444 %\n",
      "Accuracy of the network on the 10000 test images: 95.94594594594595 %\n",
      "Accuracy of the network on the 10000 test images: 95.94736842105263 %\n",
      "Accuracy of the network on the 10000 test images: 95.8974358974359 %\n",
      "Accuracy of the network on the 10000 test images: 95.825 %\n",
      "Accuracy of the network on the 10000 test images: 95.8780487804878 %\n",
      "Accuracy of the network on the 10000 test images: 95.88095238095238 %\n",
      "Accuracy of the network on the 10000 test images: 95.81395348837209 %\n",
      "Accuracy of the network on the 10000 test images: 95.8409090909091 %\n",
      "Accuracy of the network on the 10000 test images: 95.88888888888889 %\n",
      "Accuracy of the network on the 10000 test images: 95.8695652173913 %\n",
      "Accuracy of the network on the 10000 test images: 95.93617021276596 %\n",
      "Accuracy of the network on the 10000 test images: 95.95833333333333 %\n",
      "Accuracy of the network on the 10000 test images: 95.93877551020408 %\n",
      "Accuracy of the network on the 10000 test images: 96.02 %\n",
      "Accuracy of the network on the 10000 test images: 96.07843137254902 %\n",
      "Accuracy of the network on the 10000 test images: 96.13461538461539 %\n",
      "Accuracy of the network on the 10000 test images: 96.18867924528301 %\n",
      "Accuracy of the network on the 10000 test images: 96.24074074074075 %\n",
      "Accuracy of the network on the 10000 test images: 96.27272727272727 %\n",
      "Accuracy of the network on the 10000 test images: 96.32142857142857 %\n",
      "Accuracy of the network on the 10000 test images: 96.3157894736842 %\n",
      "Accuracy of the network on the 10000 test images: 96.36206896551724 %\n",
      "Accuracy of the network on the 10000 test images: 96.37288135593221 %\n",
      "Accuracy of the network on the 10000 test images: 96.31666666666666 %\n",
      "Accuracy of the network on the 10000 test images: 96.32786885245902 %\n",
      "Accuracy of the network on the 10000 test images: 96.35483870967742 %\n",
      "Accuracy of the network on the 10000 test images: 96.41269841269842 %\n",
      "Accuracy of the network on the 10000 test images: 96.46875 %\n",
      "Accuracy of the network on the 10000 test images: 96.50769230769231 %\n",
      "Accuracy of the network on the 10000 test images: 96.48484848484848 %\n",
      "Accuracy of the network on the 10000 test images: 96.5223880597015 %\n",
      "Accuracy of the network on the 10000 test images: 96.52941176470588 %\n",
      "Accuracy of the network on the 10000 test images: 96.53623188405797 %\n",
      "Accuracy of the network on the 10000 test images: 96.57142857142857 %\n",
      "Accuracy of the network on the 10000 test images: 96.6056338028169 %\n",
      "Accuracy of the network on the 10000 test images: 96.65277777777777 %\n",
      "Accuracy of the network on the 10000 test images: 96.64383561643835 %\n",
      "Accuracy of the network on the 10000 test images: 96.6891891891892 %\n",
      "Accuracy of the network on the 10000 test images: 96.72 %\n",
      "Accuracy of the network on the 10000 test images: 96.72368421052632 %\n",
      "Accuracy of the network on the 10000 test images: 96.76623376623377 %\n",
      "Accuracy of the network on the 10000 test images: 96.8076923076923 %\n",
      "Accuracy of the network on the 10000 test images: 96.82278481012658 %\n",
      "Accuracy of the network on the 10000 test images: 96.8375 %\n",
      "Accuracy of the network on the 10000 test images: 96.82716049382717 %\n",
      "Accuracy of the network on the 10000 test images: 96.85365853658537 %\n",
      "Accuracy of the network on the 10000 test images: 96.855421686747 %\n",
      "Accuracy of the network on the 10000 test images: 96.85714285714286 %\n",
      "Accuracy of the network on the 10000 test images: 96.88235294117646 %\n",
      "Accuracy of the network on the 10000 test images: 96.8953488372093 %\n",
      "Accuracy of the network on the 10000 test images: 96.93103448275862 %\n",
      "Accuracy of the network on the 10000 test images: 96.9659090909091 %\n",
      "Accuracy of the network on the 10000 test images: 97.0 %\n",
      "Accuracy of the network on the 10000 test images: 97.03333333333333 %\n",
      "Accuracy of the network on the 10000 test images: 97.03296703296704 %\n",
      "Accuracy of the network on the 10000 test images: 97.05434782608695 %\n",
      "Accuracy of the network on the 10000 test images: 97.0752688172043 %\n",
      "Accuracy of the network on the 10000 test images: 97.1063829787234 %\n",
      "Accuracy of the network on the 10000 test images: 97.12631578947368 %\n",
      "Accuracy of the network on the 10000 test images: 97.14583333333333 %\n",
      "Accuracy of the network on the 10000 test images: 97.15463917525773 %\n",
      "Accuracy of the network on the 10000 test images: 97.09183673469387 %\n",
      "Accuracy of the network on the 10000 test images: 97.1010101010101 %\n",
      "Accuracy of the network on the 10000 test images: 97.11 %\n"
     ]
    }
   ],
   "source": [
    "# Accuracy\n",
    "with torch.no_grad():\n",
    "    correct = 0\n",
    "    total = 0\n",
    "    for images, labels in test_loader:\n",
    "        images = images.reshape(-1, 28 * 28)\n",
    "        out = model(images)\n",
    "        _, predicted = torch.max(out.data, 1)\n",
    "        total += labels.size(0)\n",
    "        correct += (predicted == labels).sum().item()\n",
    "        print('Accuracy of the network on the 10000 test images: {} %'.format(100 * correct / total))"
   ]
  }
 ],
 "metadata": {
  "kernelspec": {
   "display_name": "Python 3",
   "language": "python",
   "name": "python3"
  },
  "language_info": {
   "codemirror_mode": {
    "name": "ipython",
    "version": 3
   },
   "file_extension": ".py",
   "mimetype": "text/x-python",
   "name": "python",
   "nbconvert_exporter": "python",
   "pygments_lexer": "ipython3",
   "version": "3.6.5"
  }
 },
 "nbformat": 4,
 "nbformat_minor": 2
}
