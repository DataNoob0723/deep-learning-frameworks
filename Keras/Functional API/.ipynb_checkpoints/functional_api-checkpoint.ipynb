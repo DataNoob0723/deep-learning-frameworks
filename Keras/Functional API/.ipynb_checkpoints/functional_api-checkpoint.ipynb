{
 "cells": [
  {
   "cell_type": "code",
   "execution_count": 9,
   "metadata": {},
   "outputs": [],
   "source": [
    "# Import dependencies\n",
    "from keras.datasets import mnist\n",
    "from keras.layers import Input, Dense\n",
    "from keras.models import Model\n",
    "from keras.utils import to_categorical\n",
    "from keras.models import model_from_json\n",
    "import h5py\n",
    "from sklearn.model_selection import train_test_split\n",
    "import numpy as np\n",
    "import matplotlib.pyplot as plt"
   ]
  },
  {
   "cell_type": "code",
   "execution_count": 10,
   "metadata": {},
   "outputs": [],
   "source": [
    "# Load data\n",
    "(X_train, Y_train), (X_test, Y_test) = mnist.load_data()"
   ]
  },
  {
   "cell_type": "code",
   "execution_count": 11,
   "metadata": {},
   "outputs": [
    {
     "data": {
      "text/plain": [
       "numpy.ndarray"
      ]
     },
     "execution_count": 11,
     "metadata": {},
     "output_type": "execute_result"
    }
   ],
   "source": [
    "type(X_train)"
   ]
  },
  {
   "cell_type": "code",
   "execution_count": 12,
   "metadata": {},
   "outputs": [
    {
     "name": "stdout",
     "output_type": "stream",
     "text": [
      "(60000, 28, 28)\n",
      "(60000,)\n",
      "(10000, 28, 28)\n",
      "(10000,)\n"
     ]
    }
   ],
   "source": [
    "print(X_train.shape)\n",
    "print(Y_train.shape)\n",
    "print(X_test.shape)\n",
    "print(Y_test.shape)"
   ]
  },
  {
   "cell_type": "code",
   "execution_count": 13,
   "metadata": {},
   "outputs": [
    {
     "data": {
      "image/png": "[encoded data removed]",
      "text/plain": [
       "<Figure size 432x288 with 4 Axes>"
      ]
     },
     "metadata": {},
     "output_type": "display_data"
    }
   ],
   "source": [
    "# Show sample figures\n",
    "plt.subplot(221)\n",
    "plt.imshow(X_train[0], cmap=plt.get_cmap('gray'))\n",
    "plt.subplot(222)\n",
    "plt.imshow(X_train[1], cmap=plt.get_cmap('gray'))\n",
    "plt.subplot(223)\n",
    "plt.imshow(X_train[2], cmap=plt.get_cmap('gray'))\n",
    "plt.subplot(224)\n",
    "plt.imshow(X_train[3], cmap=plt.get_cmap('gray'))\n",
    "# Show the plot\n",
    "plt.show()"
   ]
  },
  {
   "cell_type": "code",
   "execution_count": 14,
   "metadata": {},
   "outputs": [],
   "source": [
    "# Need to reshape x data\n",
    "num_pixels = X_train.shape[1] * X_train.shape[2]\n",
    "X_train = X_train.reshape(X_train.shape[0], num_pixels).astype(\"float32\")\n",
    "X_test = X_test.reshape(X_test.shape[0], num_pixels).astype(\"float32\")"
   ]
  },
  {
   "cell_type": "code",
   "execution_count": 15,
   "metadata": {},
   "outputs": [
    {
     "name": "stdout",
     "output_type": "stream",
     "text": [
      "(60000, 784)\n",
      "(10000, 784)\n"
     ]
    }
   ],
   "source": [
    "print(X_train.shape)\n",
    "print(X_test.shape)"
   ]
  },
  {
   "cell_type": "code",
   "execution_count": 16,
   "metadata": {},
   "outputs": [],
   "source": [
    "# Normalize the x data\n",
    "X_train, X_test = X_train / 255.0, X_test / 255.0"
   ]
  },
  {
   "cell_type": "code",
   "execution_count": 17,
   "metadata": {},
   "outputs": [
    {
     "data": {
      "text/plain": [
       "array([5, 0, 4, 1, 9, 2, 1, 3, 1, 4], dtype=uint8)"
      ]
     },
     "execution_count": 17,
     "metadata": {},
     "output_type": "execute_result"
    }
   ],
   "source": [
    "Y_train[:10]"
   ]
  },
  {
   "cell_type": "code",
   "execution_count": 18,
   "metadata": {},
   "outputs": [],
   "source": [
    "# One Hot encoding\n",
    "Y_train_oh = to_categorical(Y_train)\n",
    "Y_test_oh = to_categorical(Y_test)"
   ]
  },
  {
   "cell_type": "code",
   "execution_count": 86,
   "metadata": {},
   "outputs": [
    {
     "name": "stdout",
     "output_type": "stream",
     "text": [
      "(60000, 10)\n",
      "(10000, 10)\n"
     ]
    }
   ],
   "source": [
    "print(Y_train_oh.shape)\n",
    "print(Y_test_oh.shape)"
   ]
  },
  {
   "cell_type": "code",
   "execution_count": 87,
   "metadata": {},
   "outputs": [],
   "source": [
    "# Split the train set into a new train set and a dev set\n",
    "X_train, X_dev, Y_train_oh, Y_dev_oh = train_test_split(\n",
    "                                X_train, Y_train_oh, test_size = 5000, random_state = 23\n",
    ")"
   ]
  },
  {
   "cell_type": "code",
   "execution_count": 88,
   "metadata": {},
   "outputs": [
    {
     "name": "stdout",
     "output_type": "stream",
     "text": [
      "(55000, 784)\n",
      "(5000, 784)\n",
      "(55000, 10)\n",
      "(5000, 10)\n"
     ]
    }
   ],
   "source": [
    "print(X_train.shape)\n",
    "print(X_dev.shape)\n",
    "print(Y_train_oh.shape)\n",
    "print(Y_dev_oh.shape)"
   ]
  },
  {
   "cell_type": "code",
   "execution_count": 89,
   "metadata": {},
   "outputs": [
    {
     "name": "stdout",
     "output_type": "stream",
     "text": [
      "784\n",
      "10\n"
     ]
    }
   ],
   "source": [
    "# Data dimensions\n",
    "img_size_flat = X_train.shape[1]\n",
    "n_classes = Y_train_oh.shape[1]\n",
    "print(img_size_flat)\n",
    "print(n_classes)"
   ]
  },
  {
   "cell_type": "code",
   "execution_count": 90,
   "metadata": {},
   "outputs": [],
   "source": [
    "# Define the neural network model\n",
    "inputs = Input(shape=(num_pixels, ))\n",
    "output_hid_1 = Dense(689, kernel_initializer='normal', activation='relu')(inputs)\n",
    "output_hid_2 = Dense(689, kernel_initializer='normal', activation='relu')(output_hid_1)\n",
    "predictions = Dense(n_classes, kernel_initializer='normal', activation='softmax')(output_hid_2)\n",
    "model = Model(inputs=inputs, outputs=predictions)"
   ]
  },
  {
   "cell_type": "code",
   "execution_count": 91,
   "metadata": {},
   "outputs": [
    {
     "name": "stdout",
     "output_type": "stream",
     "text": [
      "_________________________________________________________________\n",
      "Layer (type)                 Output Shape              Param #   \n",
      "=================================================================\n",
      "input_4 (InputLayer)         (None, 784)               0         \n",
      "_________________________________________________________________\n",
      "dense_10 (Dense)             (None, 689)               540865    \n",
      "_________________________________________________________________\n",
      "dense_11 (Dense)             (None, 689)               475410    \n",
      "_________________________________________________________________\n",
      "dense_12 (Dense)             (None, 10)                6900      \n",
      "=================================================================\n",
      "Total params: 1,023,175\n",
      "Trainable params: 1,023,175\n",
      "Non-trainable params: 0\n",
      "_________________________________________________________________\n"
     ]
    }
   ],
   "source": [
    "model.summary()"
   ]
  },
  {
   "cell_type": "code",
   "execution_count": 92,
   "metadata": {},
   "outputs": [],
   "source": [
    "# Compile the model\n",
    "model.compile(loss='categorical_crossentropy', optimizer='adam', metrics=['accuracy'])"
   ]
  },
  {
   "cell_type": "code",
   "execution_count": 93,
   "metadata": {},
   "outputs": [
    {
     "name": "stdout",
     "output_type": "stream",
     "text": [
      "['loss', 'acc']\n"
     ]
    }
   ],
   "source": [
    "print(model.metrics_names)"
   ]
  },
  {
   "cell_type": "code",
   "execution_count": 94,
   "metadata": {},
   "outputs": [
    {
     "name": "stdout",
     "output_type": "stream",
     "text": [
      "Train on 55000 samples, validate on 5000 samples\n",
      "Epoch 1/50\n",
      "55000/55000 [==============================] - 3s 58us/step - loss: 0.2155 - acc: 0.9343 - val_loss: 0.1174 - val_acc: 0.9638\n",
      "Epoch 2/50\n",
      "55000/55000 [==============================] - 3s 55us/step - loss: 0.0783 - acc: 0.9754 - val_loss: 0.1011 - val_acc: 0.9690\n",
      "Epoch 3/50\n",
      "55000/55000 [==============================] - 3s 54us/step - loss: 0.0479 - acc: 0.9844 - val_loss: 0.1051 - val_acc: 0.9686\n",
      "Epoch 4/50\n",
      "55000/55000 [==============================] - 3s 54us/step - loss: 0.0321 - acc: 0.9895 - val_loss: 0.0830 - val_acc: 0.9748\n",
      "Epoch 5/50\n",
      "55000/55000 [==============================] - 3s 55us/step - loss: 0.0260 - acc: 0.9914 - val_loss: 0.0916 - val_acc: 0.9766\n",
      "Epoch 6/50\n",
      "55000/55000 [==============================] - 3s 55us/step - loss: 0.0189 - acc: 0.9936 - val_loss: 0.0788 - val_acc: 0.9766\n",
      "Epoch 7/50\n",
      "55000/55000 [==============================] - 3s 54us/step - loss: 0.0191 - acc: 0.9932 - val_loss: 0.0974 - val_acc: 0.9748\n",
      "Epoch 8/50\n",
      "55000/55000 [==============================] - 3s 55us/step - loss: 0.0137 - acc: 0.9958 - val_loss: 0.0817 - val_acc: 0.9820\n",
      "Epoch 9/50\n",
      "55000/55000 [==============================] - 3s 54us/step - loss: 0.0128 - acc: 0.9957 - val_loss: 0.0875 - val_acc: 0.9810\n",
      "Epoch 10/50\n",
      "55000/55000 [==============================] - 3s 54us/step - loss: 0.0171 - acc: 0.9943 - val_loss: 0.0843 - val_acc: 0.9802\n",
      "Epoch 11/50\n",
      "55000/55000 [==============================] - 3s 55us/step - loss: 0.0108 - acc: 0.9966 - val_loss: 0.0923 - val_acc: 0.9808\n",
      "Epoch 12/50\n",
      "55000/55000 [==============================] - 3s 54us/step - loss: 0.0103 - acc: 0.9969 - val_loss: 0.0945 - val_acc: 0.9814\n",
      "Epoch 13/50\n",
      "55000/55000 [==============================] - 3s 54us/step - loss: 0.0129 - acc: 0.9957 - val_loss: 0.1025 - val_acc: 0.9782\n",
      "Epoch 14/50\n",
      "55000/55000 [==============================] - 3s 55us/step - loss: 0.0108 - acc: 0.9968 - val_loss: 0.1119 - val_acc: 0.9760\n",
      "Epoch 15/50\n",
      "55000/55000 [==============================] - 3s 54us/step - loss: 0.0130 - acc: 0.9958 - val_loss: 0.0972 - val_acc: 0.9800\n",
      "Epoch 16/50\n",
      "55000/55000 [==============================] - 3s 54us/step - loss: 0.0052 - acc: 0.9983 - val_loss: 0.0993 - val_acc: 0.9796\n",
      "Epoch 17/50\n",
      "55000/55000 [==============================] - 3s 54us/step - loss: 0.0087 - acc: 0.9975 - val_loss: 0.0910 - val_acc: 0.9830\n",
      "Epoch 18/50\n",
      "55000/55000 [==============================] - 3s 55us/step - loss: 0.0100 - acc: 0.9969 - val_loss: 0.1002 - val_acc: 0.9800\n",
      "Epoch 19/50\n",
      "55000/55000 [==============================] - 3s 54us/step - loss: 0.0090 - acc: 0.9972 - val_loss: 0.1004 - val_acc: 0.9812\n",
      "Epoch 20/50\n",
      "55000/55000 [==============================] - 3s 54us/step - loss: 0.0080 - acc: 0.9975 - val_loss: 0.1170 - val_acc: 0.9770\n",
      "Epoch 21/50\n",
      "55000/55000 [==============================] - 3s 54us/step - loss: 0.0086 - acc: 0.9975 - val_loss: 0.0941 - val_acc: 0.9828\n",
      "Epoch 22/50\n",
      "55000/55000 [==============================] - 3s 56us/step - loss: 0.0065 - acc: 0.9980 - val_loss: 0.1020 - val_acc: 0.9812\n",
      "Epoch 23/50\n",
      "55000/55000 [==============================] - 3s 54us/step - loss: 0.0080 - acc: 0.9975 - val_loss: 0.1270 - val_acc: 0.9782\n",
      "Epoch 24/50\n",
      "55000/55000 [==============================] - 3s 54us/step - loss: 0.0064 - acc: 0.9979 - val_loss: 0.1063 - val_acc: 0.9816\n",
      "Epoch 25/50\n",
      "55000/55000 [==============================] - 3s 54us/step - loss: 0.0074 - acc: 0.9981 - val_loss: 0.1240 - val_acc: 0.9782\n",
      "Epoch 26/50\n",
      "55000/55000 [==============================] - 3s 55us/step - loss: 0.0093 - acc: 0.9973 - val_loss: 0.1008 - val_acc: 0.9822\n",
      "Epoch 27/50\n",
      "55000/55000 [==============================] - 3s 57us/step - loss: 0.0040 - acc: 0.9988 - val_loss: 0.1041 - val_acc: 0.9838\n",
      "Epoch 28/50\n",
      "55000/55000 [==============================] - 3s 57us/step - loss: 0.0068 - acc: 0.9977 - val_loss: 0.1390 - val_acc: 0.9764\n",
      "Epoch 29/50\n",
      "55000/55000 [==============================] - 3s 56us/step - loss: 0.0040 - acc: 0.9987 - val_loss: 0.1073 - val_acc: 0.9842\n",
      "Epoch 30/50\n",
      "55000/55000 [==============================] - 3s 56us/step - loss: 0.0092 - acc: 0.9972 - val_loss: 0.1427 - val_acc: 0.9794\n",
      "Epoch 31/50\n",
      "55000/55000 [==============================] - 3s 54us/step - loss: 0.0073 - acc: 0.9979 - val_loss: 0.0977 - val_acc: 0.9850\n",
      "Epoch 32/50\n",
      "55000/55000 [==============================] - 3s 54us/step - loss: 0.0027 - acc: 0.9993 - val_loss: 0.0998 - val_acc: 0.9844\n",
      "Epoch 33/50\n",
      "55000/55000 [==============================] - 3s 56us/step - loss: 0.0052 - acc: 0.9987 - val_loss: 0.1217 - val_acc: 0.9828\n",
      "Epoch 34/50\n",
      "55000/55000 [==============================] - 3s 58us/step - loss: 0.0113 - acc: 0.9969 - val_loss: 0.1101 - val_acc: 0.9812\n",
      "Epoch 35/50\n",
      "55000/55000 [==============================] - 3s 53us/step - loss: 0.0038 - acc: 0.9989 - val_loss: 0.1013 - val_acc: 0.9840\n",
      "Epoch 36/50\n",
      "55000/55000 [==============================] - 3s 53us/step - loss: 0.0021 - acc: 0.9994 - val_loss: 0.1080 - val_acc: 0.9844\n",
      "Epoch 37/50\n",
      "55000/55000 [==============================] - 3s 55us/step - loss: 0.0023 - acc: 0.9994 - val_loss: 0.1379 - val_acc: 0.9806\n",
      "Epoch 38/50\n",
      "55000/55000 [==============================] - 3s 56us/step - loss: 0.0099 - acc: 0.9974 - val_loss: 0.1228 - val_acc: 0.9826\n",
      "Epoch 39/50\n",
      "55000/55000 [==============================] - 3s 55us/step - loss: 0.0060 - acc: 0.9982 - val_loss: 0.1167 - val_acc: 0.9824\n",
      "Epoch 40/50\n",
      "55000/55000 [==============================] - 3s 53us/step - loss: 0.0050 - acc: 0.9986 - val_loss: 0.1111 - val_acc: 0.9828\n",
      "Epoch 41/50\n",
      "55000/55000 [==============================] - 3s 52us/step - loss: 0.0031 - acc: 0.9995 - val_loss: 0.1141 - val_acc: 0.9838\n",
      "Epoch 42/50\n",
      "55000/55000 [==============================] - 3s 52us/step - loss: 0.0021 - acc: 0.9993 - val_loss: 0.1264 - val_acc: 0.9802\n",
      "Epoch 43/50\n",
      "55000/55000 [==============================] - 3s 51us/step - loss: 0.0051 - acc: 0.9985 - val_loss: 0.1578 - val_acc: 0.9776\n",
      "Epoch 44/50\n",
      "55000/55000 [==============================] - 3s 52us/step - loss: 0.0058 - acc: 0.9983 - val_loss: 0.1140 - val_acc: 0.9806\n",
      "Epoch 45/50\n",
      "55000/55000 [==============================] - 3s 53us/step - loss: 0.0106 - acc: 0.9975 - val_loss: 0.1332 - val_acc: 0.9820\n",
      "Epoch 46/50\n",
      "55000/55000 [==============================] - 3s 55us/step - loss: 0.0068 - acc: 0.9982 - val_loss: 0.1162 - val_acc: 0.9854\n",
      "Epoch 47/50\n",
      "55000/55000 [==============================] - 3s 54us/step - loss: 0.0044 - acc: 0.9987 - val_loss: 0.1395 - val_acc: 0.9814\n",
      "Epoch 48/50\n",
      "55000/55000 [==============================] - 3s 53us/step - loss: 0.0031 - acc: 0.9992 - val_loss: 0.1134 - val_acc: 0.9836\n",
      "Epoch 49/50\n",
      "55000/55000 [==============================] - 3s 51us/step - loss: 0.0012 - acc: 0.9997 - val_loss: 0.1210 - val_acc: 0.9830\n",
      "Epoch 50/50\n",
      "55000/55000 [==============================] - 3s 51us/step - loss: 0.0042 - acc: 0.9990 - val_loss: 0.1249 - val_acc: 0.9834\n",
      "{'val_loss': [0.11744885738492011, 0.10112169963214547, 0.10506850973963737, 0.08295099420547486, 0.09163834625482559, 0.07882766646169476, 0.09739229491334409, 0.08165956968275132, 0.0875277723566338, 0.08425102280201391, 0.09226671195551753, 0.09451672694105655, 0.10251618532724678, 0.11191095080185623, 0.09717005103044211, 0.09932943166191689, 0.09095964306592941, 0.10015945155625668, 0.10044571218475758, 0.11700777398369173, 0.09406808144613168, 0.10200737587594194, 0.12699147217972204, 0.1063448542704864, 0.12396654016077528, 0.10076501244306567, 0.10405114958696067, 0.13904936342835425, 0.10732723449282348, 0.1427118774112314, 0.0976760687720045, 0.09975479965405538, 0.1217054017432034, 0.11013374665868468, 0.1013368218958458, 0.10799081316185184, 0.13788678269389493, 0.12282355231749244, 0.11667684821113944, 0.11111089232172817, 0.11413444623639807, 0.12642938243150714, 0.15783284911550585, 0.11399413925111294, 0.13315563570810482, 0.11620910287345759, 0.13952441490894416, 0.1134453203737736, 0.12095373128056529, 0.12490354661010208], 'val_acc': [0.9638, 0.969, 0.9686, 0.9748, 0.9766, 0.9766, 0.9748, 0.982, 0.981, 0.9802, 0.9808, 0.9814, 0.9782, 0.976, 0.98, 0.9796, 0.983, 0.98, 0.9812, 0.977, 0.9828, 0.9812, 0.9782, 0.9816, 0.9782, 0.9822, 0.9838, 0.9764, 0.9842, 0.9794, 0.985, 0.9844, 0.9828, 0.9812, 0.984, 0.9844, 0.9806, 0.9826, 0.9824, 0.9828, 0.9838, 0.9802, 0.9776, 0.9806, 0.982, 0.9854, 0.9814, 0.9836, 0.983, 0.9834], 'loss': [0.21554975021156397, 0.0782827276208184, 0.047896495752442966, 0.03206852551861243, 0.02600996970195662, 0.01889214575480331, 0.019129533998261797, 0.013738828668269244, 0.012801962848414073, 0.017082167277654464, 0.010800086352042854, 0.010289933520919559, 0.01294582515912215, 0.010805498363594101, 0.013044836949105163, 0.0051793827103027565, 0.008693338104820049, 0.009956262532947586, 0.009006246393552813, 0.007990648796439001, 0.008573366809955968, 0.006467857128484386, 0.008032411687078208, 0.006375810282850977, 0.007353031187845309, 0.009285602609509475, 0.004029905084112001, 0.006821556942106955, 0.004007014686471931, 0.009204488211296583, 0.007297065555274392, 0.002690805354667257, 0.005192887649304811, 0.011329704810644034, 0.0038052413372287198, 0.0021264755244407175, 0.002345024666660968, 0.009880284559133163, 0.00601843764398337, 0.005015346098634605, 0.003116772358709568, 0.0020787587888960513, 0.005055327455884716, 0.005785637741736719, 0.010553800601501677, 0.006811950138558512, 0.004378283400522427, 0.0030938941077775037, 0.0012126565530548264, 0.004173637221949949], 'acc': [0.9342545454545454, 0.9753818181384694, 0.9844000000173395, 0.9894909090475602, 0.9914363636363637, 0.9936363636537031, 0.9932363636537032, 0.9957636363809759, 0.9957272727619518, 0.99430909094377, 0.9966000000346791, 0.996854545471885, 0.9957272727272727, 0.9967636363636364, 0.9957636363636364, 0.9982727272727273, 0.9975090909090909, 0.9969272727272728, 0.9971636363636364, 0.9974545454892245, 0.9974727272727273, 0.9980181818181818, 0.9974727272727273, 0.9979272727272728, 0.9980727272727272, 0.9973090909090909, 0.9987636363636364, 0.9976727272727273, 0.9986727272900668, 0.9972363636363636, 0.9979272727272728, 0.9992727272727273, 0.9986727272900668, 0.996890909090909, 0.9989272727272728, 0.9994, 0.9993636363636363, 0.9973636363636363, 0.9982, 0.9986181818181818, 0.9994727272727273, 0.9993272727272727, 0.9985454545454545, 0.9983272727272727, 0.9975272727272727, 0.9981636363636364, 0.9987272727446123, 0.9992363636363636, 0.9997454545454545, 0.9989818181818182]}\n"
     ]
    }
   ],
   "source": [
    "# Fit the model\n",
    "History = model.fit(X_train, Y_train_oh, validation_data=(X_dev, Y_dev_oh), batch_size=128, epochs=50)\n",
    "print(History.history)"
   ]
  },
  {
   "cell_type": "code",
   "execution_count": 95,
   "metadata": {},
   "outputs": [
    {
     "name": "stdout",
     "output_type": "stream",
     "text": [
      "10000/10000 [==============================] - 1s 64us/step\n",
      "Test set loss: 0.1299960997476727\n",
      "Test set acc: 0.9824\n"
     ]
    }
   ],
   "source": [
    "# Final evaluation of the model\n",
    "scores = model.evaluate(X_test, Y_test_oh)\n",
    "print(f\"Test set loss: {scores[0]}\")\n",
    "print(f\"Test set acc: {scores[1]}\")"
   ]
  },
  {
   "cell_type": "code",
   "execution_count": 96,
   "metadata": {},
   "outputs": [],
   "source": [
    "# Save the model to a json file\n",
    "model_json = model.to_json()\n",
    "with open(\"model/model.json\", \"w\") as json_file:\n",
    "    json_file.write(model_json)"
   ]
  },
  {
   "cell_type": "code",
   "execution_count": 97,
   "metadata": {},
   "outputs": [
    {
     "name": "stdout",
     "output_type": "stream",
     "text": [
      "Saved weights to disk\n"
     ]
    }
   ],
   "source": [
    "# Serialize weights to HDF5\n",
    "model.save_weights(\"weights/weights.h5\")\n",
    "print(\"Saved weights to disk...\") "
   ]
  },
  {
   "cell_type": "code",
   "execution_count": 3,
   "metadata": {},
   "outputs": [],
   "source": [
    "\"\"\"\n",
    "Later on if we want to re-use the model\n",
    "\"\"\"\n",
    "# Load json file and create model\n",
    "json_file = open('model/model.json', 'r')\n",
    "loaded_model_json = json_file.read()\n",
    "loaded_model = model_from_json(loaded_model_json)"
   ]
  },
  {
   "cell_type": "code",
   "execution_count": 4,
   "metadata": {},
   "outputs": [
    {
     "name": "stdout",
     "output_type": "stream",
     "text": [
      "_________________________________________________________________\n",
      "Layer (type)                 Output Shape              Param #   \n",
      "=================================================================\n",
      "input_4 (InputLayer)         (None, 784)               0         \n",
      "_________________________________________________________________\n",
      "dense_10 (Dense)             (None, 689)               540865    \n",
      "_________________________________________________________________\n",
      "dense_11 (Dense)             (None, 689)               475410    \n",
      "_________________________________________________________________\n",
      "dense_12 (Dense)             (None, 10)                6900      \n",
      "=================================================================\n",
      "Total params: 1,023,175\n",
      "Trainable params: 1,023,175\n",
      "Non-trainable params: 0\n",
      "_________________________________________________________________\n"
     ]
    }
   ],
   "source": [
    "loaded_model.summary()"
   ]
  },
  {
   "cell_type": "code",
   "execution_count": 5,
   "metadata": {},
   "outputs": [
    {
     "name": "stdout",
     "output_type": "stream",
     "text": [
      "Loaded weights from disk...\n"
     ]
    }
   ],
   "source": [
    "# Load weights into loaded model\n",
    "loaded_model.load_weights(\"weights/weights.h5\")\n",
    "print(\"Loaded weights from disk...\")"
   ]
  },
  {
   "cell_type": "code",
   "execution_count": 19,
   "metadata": {},
   "outputs": [
    {
     "name": "stdout",
     "output_type": "stream",
     "text": [
      "10000/10000 [==============================] - 1s 89us/step\n",
      "Test set loss: 0.1299960997476727\n",
      "Test set acc: 0.9824\n"
     ]
    }
   ],
   "source": [
    "# Evaluate loaded model on test data\n",
    "loaded_model.compile(loss='categorical_crossentropy', optimizer='adam', metrics=['accuracy'])\n",
    "scores = loaded_model.evaluate(X_test, Y_test_oh)\n",
    "print(f\"Test set loss: {scores[0]}\")\n",
    "print(f\"Test set acc: {scores[1]}\")"
   ]
  }
 ],
 "metadata": {
  "kernelspec": {
   "display_name": "Python 3",
   "language": "python",
   "name": "python3"
  },
  "language_info": {
   "codemirror_mode": {
    "name": "ipython",
    "version": 3
   },
   "file_extension": ".py",
   "mimetype": "text/x-python",
   "name": "python",
   "nbconvert_exporter": "python",
   "pygments_lexer": "ipython3",
   "version": "3.6.5"
  }
 },
 "nbformat": 4,
 "nbformat_minor": 2
}
