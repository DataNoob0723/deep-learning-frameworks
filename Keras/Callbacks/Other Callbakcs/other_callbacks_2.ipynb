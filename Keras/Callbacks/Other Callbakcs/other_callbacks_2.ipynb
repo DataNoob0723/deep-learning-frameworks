{
 "cells": [
  {
   "cell_type": "code",
   "execution_count": 2,
   "metadata": {},
   "outputs": [],
   "source": [
    "# Import necessary dependencies\n",
    "import keras\n",
    "from keras.datasets import mnist\n",
    "from keras.layers import Input, Dense, Dropout\n",
    "from keras.models import Model\n",
    "from keras.utils import np_utils\n",
    "from keras.callbacks import Callback, LambdaCallback, TensorBoard, EarlyStopping\n",
    "from keras.utils.layer_utils import print_summary\n",
    "import tensorflow as tf\n",
    "import numpy as np\n",
    "import matplotlib.pyplot as plt"
   ]
  },
  {
   "cell_type": "code",
   "execution_count": 3,
   "metadata": {},
   "outputs": [
    {
     "name": "stdout",
     "output_type": "stream",
     "text": [
      "1.9.0\n",
      "2.2.4\n"
     ]
    }
   ],
   "source": [
    "# Check package versions\n",
    "print(tf.__version__)\n",
    "print(keras.__version__)"
   ]
  },
  {
   "cell_type": "code",
   "execution_count": 4,
   "metadata": {},
   "outputs": [],
   "source": [
    "# Load data\n",
    "(X_train, Y_train), (X_test, Y_test) = mnist.load_data()"
   ]
  },
  {
   "cell_type": "code",
   "execution_count": 5,
   "metadata": {},
   "outputs": [
    {
     "name": "stdout",
     "output_type": "stream",
     "text": [
      "<class 'numpy.ndarray'> (60000, 28, 28)\n",
      "<class 'numpy.ndarray'> (60000,)\n",
      "<class 'numpy.ndarray'> (10000, 28, 28)\n",
      "<class 'numpy.ndarray'> (10000,)\n"
     ]
    }
   ],
   "source": [
    "# Check data shape\n",
    "print(type(X_train), X_train.shape)\n",
    "print(type(Y_train), Y_train.shape)\n",
    "print(type(X_test), X_test.shape)\n",
    "print(type(Y_test), Y_test.shape)"
   ]
  },
  {
   "cell_type": "code",
   "execution_count": 6,
   "metadata": {},
   "outputs": [
    {
     "name": "stdout",
     "output_type": "stream",
     "text": [
      "<class 'numpy.ndarray'> (60000, 784)\n",
      "<class 'numpy.ndarray'> (10000, 784)\n"
     ]
    }
   ],
   "source": [
    "# Flatten 28*28 images to a 784 vector for each image\n",
    "n_pixels = X_train.shape[1] * X_train.shape[2]\n",
    "X_train = X_train.reshape(X_train.shape[0], n_pixels).astype(np.float32)\n",
    "X_test = X_test.reshape(X_test.shape[0], n_pixels).astype(np.float32)\n",
    "print(type(X_train), X_train.shape)\n",
    "print(type(X_test), X_test.shape)"
   ]
  },
  {
   "cell_type": "code",
   "execution_count": 7,
   "metadata": {},
   "outputs": [],
   "source": [
    "# Normalize inputs from 0-255 to 0-1\n",
    "X_train = X_train / 255\n",
    "X_test = X_test / 255"
   ]
  },
  {
   "cell_type": "code",
   "execution_count": 8,
   "metadata": {},
   "outputs": [
    {
     "name": "stdout",
     "output_type": "stream",
     "text": [
      "<class 'numpy.ndarray'> (60000, 10)\n",
      "<class 'numpy.ndarray'> (10000, 10)\n"
     ]
    }
   ],
   "source": [
    "# One hot encode outputs\n",
    "Y_train = np_utils.to_categorical(Y_train)\n",
    "Y_test = np_utils.to_categorical(Y_test)\n",
    "print(type(Y_train), Y_train.shape)\n",
    "print(type(Y_test), Y_test.shape)"
   ]
  },
  {
   "cell_type": "code",
   "execution_count": 9,
   "metadata": {},
   "outputs": [
    {
     "name": "stdout",
     "output_type": "stream",
     "text": [
      "10\n"
     ]
    }
   ],
   "source": [
    "n_classes = Y_test.shape[1]\n",
    "print(n_classes)"
   ]
  },
  {
   "cell_type": "code",
   "execution_count": 10,
   "metadata": {},
   "outputs": [],
   "source": [
    "# Reset the graph\n",
    "tf.reset_default_graph()"
   ]
  },
  {
   "cell_type": "code",
   "execution_count": 11,
   "metadata": {},
   "outputs": [],
   "source": [
    "# Build the NN model\n",
    "inputs = Input(shape=(n_pixels, ), name='input')\n",
    "with tf.name_scope('layer-1'):\n",
    "    X = Dense(500, kernel_initializer='normal', activation='relu', name='H1')(inputs)\n",
    "    X = Dropout(0.5, name='DO1')(X)\n",
    "with tf.name_scope('layer-2'):\n",
    "    X = Dense(300, kernel_initializer='normal', activation='relu', name='H2')(X)\n",
    "    X = Dropout(0.5, name='DO2')(X)\n",
    "with tf.name_scope('output'):\n",
    "    X = Dense(n_classes, kernel_initializer='normal', activation='softmax', name='output')(X)\n",
    "\n",
    "model = Model(inputs=inputs, outputs=X)"
   ]
  },
  {
   "cell_type": "code",
   "execution_count": 12,
   "metadata": {},
   "outputs": [
    {
     "name": "stdout",
     "output_type": "stream",
     "text": [
      "_________________________________________________________________\n",
      "Layer (type)                 Output Shape              Param #   \n",
      "=================================================================\n",
      "input (InputLayer)           (None, 784)               0         \n",
      "_________________________________________________________________\n",
      "H1 (Dense)                   (None, 500)               392500    \n",
      "_________________________________________________________________\n",
      "DO1 (Dropout)                (None, 500)               0         \n",
      "_________________________________________________________________\n",
      "H2 (Dense)                   (None, 300)               150300    \n",
      "_________________________________________________________________\n",
      "DO2 (Dropout)                (None, 300)               0         \n",
      "_________________________________________________________________\n",
      "output (Dense)               (None, 10)                3010      \n",
      "=================================================================\n",
      "Total params: 545,810\n",
      "Trainable params: 545,810\n",
      "Non-trainable params: 0\n",
      "_________________________________________________________________\n",
      "None\n"
     ]
    }
   ],
   "source": [
    "print(model.summary())"
   ]
  },
  {
   "cell_type": "code",
   "execution_count": 13,
   "metadata": {},
   "outputs": [],
   "source": [
    "# Compile the model\n",
    "model.compile(loss='categorical_crossentropy', optimizer='adam', metrics=['accuracy'])"
   ]
  },
  {
   "cell_type": "code",
   "execution_count": 22,
   "metadata": {},
   "outputs": [],
   "source": [
    "# Define my own history callback\n",
    "class LossHistory(Callback):\n",
    "    def on_train_begin(self, logs={}):\n",
    "        self.loss = {'batch': [], 'epoch': []}\n",
    "        self.acc = {'batch': [], 'epoch': []}\n",
    "        self.val_loss = {'batch': [], 'epoch': []}\n",
    "        self.val_acc = {'batch': [], 'epoch': []}\n",
    "    \n",
    "    def on_batch_end(self, batch, logs={}):\n",
    "        self.loss['batch'].append(logs.get('loss'))\n",
    "        self.acc['batch'].append(logs.get('acc'))\n",
    "        self.val_loss['batch'].append(logs.get('val_loss'))\n",
    "        self.val_acc['batch'].append(logs.get('val_acc'))\n",
    "    \n",
    "    def on_epoch_end(self, batch, logs={}):\n",
    "        self.loss['epoch'].append(logs.get('loss'))\n",
    "        self.acc['epoch'].append(logs.get('acc'))\n",
    "        self.val_loss['epoch'].append(logs.get('val_loss'))\n",
    "        self.val_acc['epoch'].append(logs.get('val_acc'))\n",
    "        \n",
    "    def loss_plot(self, loss_type):\n",
    "        iters = np.arange(len(self.loss[loss_type]))\n",
    "        # acc\n",
    "        plt.figure(1)\n",
    "        plt.plot(iters, self.acc[loss_type], 'r', label='train acc')\n",
    "        # loss\n",
    "        plt.figure(2)\n",
    "        plt.plot(iters, self.loss[loss_type], 'g', label='train loss')\n",
    "        if loss_type == 'epoch':\n",
    "            # val_acc\n",
    "            plt.figure(1)\n",
    "            plt.plot(iters, self.val_acc[loss_type], 'b', label='val acc')\n",
    "            # val_loss\n",
    "            plt.figure(2)\n",
    "            plt.plot(iters, self.val_loss[loss_type], 'k', label='val loss')\n",
    "        \n",
    "        plt.figure(1)\n",
    "        plt.xlabel(loss_type)\n",
    "        plt.ylabel('acc')\n",
    "        plt.legend(loc=\"upper right\") \n",
    "        \n",
    "        plt.figure(2)\n",
    "        plt.xlabel(loss_type)\n",
    "        plt.ylabel('loss')\n",
    "        plt.legend(loc=\"upper right\")      "
   ]
  },
  {
   "cell_type": "code",
   "execution_count": 23,
   "metadata": {},
   "outputs": [],
   "source": [
    "history = LossHistory()"
   ]
  },
  {
   "cell_type": "code",
   "execution_count": 30,
   "metadata": {},
   "outputs": [],
   "source": [
    "# Define another callback\n",
    "class MyCallback(Callback):\n",
    "    def __init__(self, test_data, test_label, log_file=None, verbose=True):\n",
    "        self.test_data = test_data\n",
    "        self.test_label = test_label\n",
    "        self.result = []\n",
    "        self.log = open(log_file, \"w\") if log_file else None\n",
    "        self.verbose = verbose\n",
    "        \n",
    "    def on_epoch_end(self, epoch, logs=None):\n",
    "        probs = self.model.predict(self.test_data)\n",
    "        \n",
    "        def cal_acc(probs, test_label):\n",
    "            acc = np.mean(np.equal(np.argmax(probs, axis=1), np.argmax(test_label, axis=1)).astype(np.float32), axis=0)\n",
    "            return acc\n",
    "        \n",
    "        avg_acc = cal_acc(probs, self.test_label)\n",
    "        self.result.append(avg_acc)\n",
    "        log_str = 'Epoch {}, acc: {:.4f}'.format(epoch, avg_acc)\n",
    "        if self.verbose:\n",
    "            print(log_str)\n",
    "        if self.log:\n",
    "            print(log_str, file=self.log)\n",
    "        \n",
    "    def on_train_end(self, logs=None):\n",
    "        if self.log:\n",
    "            self.log.close()"
   ]
  },
  {
   "cell_type": "code",
   "execution_count": 31,
   "metadata": {},
   "outputs": [],
   "source": [
    "log_file = \"logs/log.txt\"\n",
    "my_callback = MyCallback(X_test, Y_test, log_file=log_file, verbose=True) "
   ]
  },
  {
   "cell_type": "code",
   "execution_count": 32,
   "metadata": {},
   "outputs": [
    {
     "name": "stdout",
     "output_type": "stream",
     "text": [
      "Train on 60000 samples, validate on 10000 samples\n",
      "Epoch 1/50\n",
      "60000/60000 [==============================] - 2s 41us/step - loss: 0.0119 - acc: 0.9966 - val_loss: 0.0839 - val_acc: 0.9868\n",
      "Epoch 0, acc: 0.9868\n",
      "Epoch 2/50\n",
      "60000/60000 [==============================] - 5s 91us/step - loss: 0.0137 - acc: 0.9962 - val_loss: 0.0838 - val_acc: 0.9859\n",
      "Epoch 1, acc: 0.9859\n",
      "Epoch 3/50\n",
      "60000/60000 [==============================] - 3s 44us/step - loss: 0.0113 - acc: 0.9965 - val_loss: 0.0839 - val_acc: 0.9850\n",
      "Epoch 2, acc: 0.9850\n",
      "Epoch 4/50\n",
      "60000/60000 [==============================] - 3s 42us/step - loss: 0.0121 - acc: 0.9965 - val_loss: 0.0798 - val_acc: 0.9867\n",
      "Epoch 3, acc: 0.9867\n",
      "Epoch 5/50\n",
      "60000/60000 [==============================] - 3s 43us/step - loss: 0.0127 - acc: 0.9963 - val_loss: 0.0797 - val_acc: 0.9876\n",
      "Epoch 4, acc: 0.9876\n",
      "Epoch 6/50\n",
      "60000/60000 [==============================] - 3s 43us/step - loss: 0.0138 - acc: 0.9962 - val_loss: 0.0782 - val_acc: 0.9871\n",
      "Epoch 5, acc: 0.9871\n",
      "Epoch 7/50\n",
      "60000/60000 [==============================] - 3s 43us/step - loss: 0.0128 - acc: 0.9961 - val_loss: 0.0781 - val_acc: 0.9871\n",
      "Epoch 6, acc: 0.9871\n",
      "Epoch 8/50\n",
      "60000/60000 [==============================] - 3s 42us/step - loss: 0.0141 - acc: 0.9963 - val_loss: 0.0844 - val_acc: 0.9862\n",
      "Epoch 7, acc: 0.9862\n",
      "Epoch 9/50\n",
      "60000/60000 [==============================] - 2s 41us/step - loss: 0.0146 - acc: 0.9959 - val_loss: 0.0826 - val_acc: 0.9860\n",
      "Epoch 8, acc: 0.9860\n",
      "Epoch 10/50\n",
      "60000/60000 [==============================] - 3s 43us/step - loss: 0.0138 - acc: 0.9959 - val_loss: 0.0924 - val_acc: 0.9858\n",
      "Epoch 9, acc: 0.9858\n",
      "Epoch 11/50\n",
      "60000/60000 [==============================] - 3s 43us/step - loss: 0.0133 - acc: 0.9963 - val_loss: 0.0851 - val_acc: 0.9863\n",
      "Epoch 10, acc: 0.9863\n",
      "Epoch 12/50\n",
      "60000/60000 [==============================] - 2s 39us/step - loss: 0.0130 - acc: 0.9963 - val_loss: 0.0870 - val_acc: 0.9868\n",
      "Epoch 11, acc: 0.9868\n",
      "Epoch 13/50\n",
      "60000/60000 [==============================] - 3s 43us/step - loss: 0.0132 - acc: 0.9964 - val_loss: 0.0857 - val_acc: 0.9869\n",
      "Epoch 12, acc: 0.9869\n",
      "Epoch 14/50\n",
      "60000/60000 [==============================] - 3s 43us/step - loss: 0.0142 - acc: 0.9963 - val_loss: 0.0879 - val_acc: 0.9857\n",
      "Epoch 13, acc: 0.9857\n",
      "Epoch 15/50\n",
      "60000/60000 [==============================] - 3s 43us/step - loss: 0.0136 - acc: 0.9964 - val_loss: 0.0804 - val_acc: 0.9867\n",
      "Epoch 14, acc: 0.9867\n",
      "Epoch 16/50\n",
      "60000/60000 [==============================] - 3s 43us/step - loss: 0.0103 - acc: 0.9969 - val_loss: 0.0800 - val_acc: 0.9876\n",
      "Epoch 15, acc: 0.9876\n",
      "Epoch 17/50\n",
      "60000/60000 [==============================] - 3s 43us/step - loss: 0.0130 - acc: 0.9964 - val_loss: 0.0784 - val_acc: 0.9881\n",
      "Epoch 16, acc: 0.9881\n",
      "Epoch 18/50\n",
      "60000/60000 [==============================] - 3s 43us/step - loss: 0.0128 - acc: 0.9961 - val_loss: 0.0798 - val_acc: 0.9874\n",
      "Epoch 17, acc: 0.9874\n",
      "Epoch 19/50\n",
      "60000/60000 [==============================] - 3s 43us/step - loss: 0.0112 - acc: 0.9968 - val_loss: 0.0802 - val_acc: 0.9881\n",
      "Epoch 18, acc: 0.9881\n",
      "Epoch 20/50\n",
      "60000/60000 [==============================] - 3s 43us/step - loss: 0.0128 - acc: 0.9964 - val_loss: 0.0802 - val_acc: 0.9875\n",
      "Epoch 19, acc: 0.9875\n",
      "Epoch 21/50\n",
      "60000/60000 [==============================] - 2s 40us/step - loss: 0.0123 - acc: 0.9965 - val_loss: 0.0859 - val_acc: 0.9872\n",
      "Epoch 20, acc: 0.9872\n",
      "Epoch 22/50\n",
      "60000/60000 [==============================] - 2s 41us/step - loss: 0.0117 - acc: 0.9965 - val_loss: 0.0912 - val_acc: 0.9856\n",
      "Epoch 21, acc: 0.9856\n",
      "Epoch 23/50\n",
      "60000/60000 [==============================] - 2s 38us/step - loss: 0.0116 - acc: 0.9963 - val_loss: 0.0884 - val_acc: 0.9862\n",
      "Epoch 22, acc: 0.9862\n",
      "Epoch 24/50\n",
      "60000/60000 [==============================] - 3s 43us/step - loss: 0.0131 - acc: 0.9961 - val_loss: 0.0904 - val_acc: 0.9862\n",
      "Epoch 23, acc: 0.9862\n",
      "Epoch 25/50\n",
      "60000/60000 [==============================] - 3s 43us/step - loss: 0.0134 - acc: 0.9961 - val_loss: 0.0906 - val_acc: 0.9863\n",
      "Epoch 24, acc: 0.9863\n",
      "Epoch 26/50\n",
      "60000/60000 [==============================] - 3s 43us/step - loss: 0.0114 - acc: 0.9968 - val_loss: 0.0959 - val_acc: 0.9855\n",
      "Epoch 25, acc: 0.9855\n",
      "Epoch 27/50\n",
      "60000/60000 [==============================] - 3s 43us/step - loss: 0.0140 - acc: 0.9963 - val_loss: 0.0887 - val_acc: 0.9859\n",
      "Epoch 26, acc: 0.9859\n",
      "Epoch 28/50\n",
      "60000/60000 [==============================] - 3s 44us/step - loss: 0.0121 - acc: 0.9966 - val_loss: 0.0899 - val_acc: 0.9864\n",
      "Epoch 27, acc: 0.9864\n",
      "Epoch 29/50\n",
      "60000/60000 [==============================] - 3s 44us/step - loss: 0.0146 - acc: 0.9961 - val_loss: 0.0843 - val_acc: 0.9858\n",
      "Epoch 28, acc: 0.9858\n",
      "Epoch 30/50\n",
      "60000/60000 [==============================] - 2s 39us/step - loss: 0.0128 - acc: 0.9965 - val_loss: 0.0827 - val_acc: 0.9873\n",
      "Epoch 29, acc: 0.9873\n",
      "Epoch 31/50\n",
      "60000/60000 [==============================] - 2s 37us/step - loss: 0.0127 - acc: 0.9963 - val_loss: 0.0872 - val_acc: 0.9874\n",
      "Epoch 30, acc: 0.9874\n",
      "Epoch 32/50\n",
      "60000/60000 [==============================] - 2s 41us/step - loss: 0.0145 - acc: 0.9961 - val_loss: 0.0869 - val_acc: 0.9872\n",
      "Epoch 31, acc: 0.9872\n",
      "Epoch 33/50\n",
      "60000/60000 [==============================] - 3s 44us/step - loss: 0.0124 - acc: 0.9965 - val_loss: 0.0864 - val_acc: 0.9862\n",
      "Epoch 32, acc: 0.9862\n",
      "Epoch 34/50\n",
      "60000/60000 [==============================] - 3s 43us/step - loss: 0.0128 - acc: 0.9963 - val_loss: 0.0943 - val_acc: 0.9856\n",
      "Epoch 33, acc: 0.9856\n",
      "Epoch 35/50\n",
      "60000/60000 [==============================] - 3s 42us/step - loss: 0.0138 - acc: 0.9964 - val_loss: 0.0835 - val_acc: 0.9863\n",
      "Epoch 34, acc: 0.9863\n",
      "Epoch 36/50\n",
      "60000/60000 [==============================] - 2s 38us/step - loss: 0.0141 - acc: 0.9961 - val_loss: 0.0953 - val_acc: 0.9855\n",
      "Epoch 35, acc: 0.9855\n",
      "Epoch 37/50\n",
      "60000/60000 [==============================] - 2s 41us/step - loss: 0.0112 - acc: 0.9970 - val_loss: 0.0919 - val_acc: 0.9864\n",
      "Epoch 36, acc: 0.9864\n",
      "Epoch 38/50\n",
      "60000/60000 [==============================] - 3s 43us/step - loss: 0.0114 - acc: 0.9968 - val_loss: 0.0885 - val_acc: 0.9860\n",
      "Epoch 37, acc: 0.9860\n",
      "Epoch 39/50\n",
      "60000/60000 [==============================] - 3s 43us/step - loss: 0.0116 - acc: 0.9968 - val_loss: 0.0826 - val_acc: 0.9861\n",
      "Epoch 38, acc: 0.9861\n",
      "Epoch 40/50\n",
      "60000/60000 [==============================] - 3s 44us/step - loss: 0.0124 - acc: 0.9968 - val_loss: 0.0831 - val_acc: 0.9873\n",
      "Epoch 39, acc: 0.9873\n",
      "Epoch 41/50\n",
      "60000/60000 [==============================] - 3s 44us/step - loss: 0.0110 - acc: 0.9970 - val_loss: 0.0864 - val_acc: 0.9863\n",
      "Epoch 40, acc: 0.9863\n",
      "Epoch 42/50\n",
      "60000/60000 [==============================] - 3s 44us/step - loss: 0.0108 - acc: 0.9968 - val_loss: 0.0885 - val_acc: 0.9865\n",
      "Epoch 41, acc: 0.9865\n",
      "Epoch 43/50\n",
      "60000/60000 [==============================] - 3s 45us/step - loss: 0.0130 - acc: 0.9962 - val_loss: 0.0909 - val_acc: 0.9861\n",
      "Epoch 42, acc: 0.9861\n",
      "Epoch 44/50\n",
      "60000/60000 [==============================] - 3s 47us/step - loss: 0.0154 - acc: 0.9958 - val_loss: 0.0902 - val_acc: 0.9868\n",
      "Epoch 43, acc: 0.9868\n",
      "Epoch 45/50\n",
      "60000/60000 [==============================] - 3s 44us/step - loss: 0.0123 - acc: 0.9965 - val_loss: 0.0816 - val_acc: 0.9879\n",
      "Epoch 44, acc: 0.9879\n",
      "Epoch 46/50\n",
      "60000/60000 [==============================] - 3s 45us/step - loss: 0.0113 - acc: 0.9966 - val_loss: 0.0898 - val_acc: 0.9868\n",
      "Epoch 45, acc: 0.9868\n",
      "Epoch 47/50\n",
      "60000/60000 [==============================] - 3s 44us/step - loss: 0.0142 - acc: 0.9963 - val_loss: 0.0878 - val_acc: 0.9871\n",
      "Epoch 46, acc: 0.9871\n",
      "Epoch 48/50\n",
      "60000/60000 [==============================] - 3s 45us/step - loss: 0.0115 - acc: 0.9964 - val_loss: 0.0846 - val_acc: 0.9870\n",
      "Epoch 47, acc: 0.9870\n",
      "Epoch 49/50\n",
      "60000/60000 [==============================] - 3s 45us/step - loss: 0.0121 - acc: 0.9969 - val_loss: 0.0881 - val_acc: 0.9878\n",
      "Epoch 48, acc: 0.9878\n",
      "Epoch 50/50\n",
      "60000/60000 [==============================] - 3s 44us/step - loss: 0.0145 - acc: 0.9963 - val_loss: 0.0892 - val_acc: 0.9862\n",
      "Epoch 49, acc: 0.9862\n"
     ]
    }
   ],
   "source": [
    "# Fit the model\n",
    "model_history = model.fit(\n",
    "    X_train, Y_train, batch_size=256, epochs=50,\n",
    "    validation_data=(X_test, Y_test),\n",
    "    callbacks=[history, my_callback]\n",
    ")"
   ]
  },
  {
   "cell_type": "code",
   "execution_count": 33,
   "metadata": {},
   "outputs": [
    {
     "data": {
      "image/png": "[encoded data removed]",
      "text/plain": [
       "<Figure size 432x288 with 1 Axes>"
      ]
     },
     "metadata": {},
     "output_type": "display_data"
    },
    {
     "data": {
      "image/png": "[encoded data removed]",
      "text/plain": [
       "<Figure size 432x288 with 1 Axes>"
      ]
     },
     "metadata": {},
     "output_type": "display_data"
    }
   ],
   "source": [
    "history.loss_plot('epoch')"
   ]
  },
  {
   "cell_type": "code",
   "execution_count": 34,
   "metadata": {},
   "outputs": [
    {
     "name": "stdout",
     "output_type": "stream",
     "text": [
      "10000/10000 [==============================] - 0s 29us/step\n",
      "Test loss:  0.08924511419710725\n",
      "Test accuracy:  0.9862\n"
     ]
    }
   ],
   "source": [
    "# Evaluate the model\n",
    "score = model.evaluate(X_test, Y_test)\n",
    "print('Test loss: ', score[0])\n",
    "print('Test accuracy: ', score[1])"
   ]
  }
 ],
 "metadata": {
  "kernelspec": {
   "display_name": "Python 3",
   "language": "python",
   "name": "python3"
  },
  "language_info": {
   "codemirror_mode": {
    "name": "ipython",
    "version": 3
   },
   "file_extension": ".py",
   "mimetype": "text/x-python",
   "name": "python",
   "nbconvert_exporter": "python",
   "pygments_lexer": "ipython3",
   "version": "3.6.5"
  }
 },
 "nbformat": 4,
 "nbformat_minor": 2
}
