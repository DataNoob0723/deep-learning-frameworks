{
 "cells": [
  {
   "cell_type": "code",
   "execution_count": 212,
   "metadata": {},
   "outputs": [],
   "source": [
    "# Import necessary dependencies\n",
    "import keras\n",
    "from keras.datasets import mnist\n",
    "from keras.layers import Input, Dense, Dropout\n",
    "from keras.models import Model\n",
    "from keras.utils import np_utils\n",
    "from keras.callbacks import Callback, LambdaCallback, TensorBoard, EarlyStopping\n",
    "from keras.utils.layer_utils import print_summary\n",
    "import tensorflow as tf\n",
    "import numpy as np\n",
    "import matplotlib.pyplot as plt"
   ]
  },
  {
   "cell_type": "code",
   "execution_count": 213,
   "metadata": {},
   "outputs": [
    {
     "name": "stdout",
     "output_type": "stream",
     "text": [
      "1.9.0\n",
      "2.2.4\n"
     ]
    }
   ],
   "source": [
    "# Check package versions\n",
    "print(tf.__version__)\n",
    "print(keras.__version__)"
   ]
  },
  {
   "cell_type": "code",
   "execution_count": 214,
   "metadata": {},
   "outputs": [],
   "source": [
    "# Load data\n",
    "(X_train, Y_train), (X_test, Y_test) = mnist.load_data()"
   ]
  },
  {
   "cell_type": "code",
   "execution_count": 215,
   "metadata": {},
   "outputs": [
    {
     "name": "stdout",
     "output_type": "stream",
     "text": [
      "<class 'numpy.ndarray'> (60000, 28, 28)\n",
      "<class 'numpy.ndarray'> (60000,)\n",
      "<class 'numpy.ndarray'> (10000, 28, 28)\n",
      "<class 'numpy.ndarray'> (10000,)\n"
     ]
    }
   ],
   "source": [
    "# Check data shape\n",
    "print(type(X_train), X_train.shape)\n",
    "print(type(Y_train), Y_train.shape)\n",
    "print(type(X_test), X_test.shape)\n",
    "print(type(Y_test), Y_test.shape)"
   ]
  },
  {
   "cell_type": "code",
   "execution_count": 216,
   "metadata": {},
   "outputs": [
    {
     "name": "stdout",
     "output_type": "stream",
     "text": [
      "<class 'numpy.ndarray'> (60000, 784)\n",
      "<class 'numpy.ndarray'> (10000, 784)\n"
     ]
    }
   ],
   "source": [
    "# Flatten 28*28 images to a 784 vector for each image\n",
    "n_pixels = X_train.shape[1] * X_train.shape[2]\n",
    "X_train = X_train.reshape(X_train.shape[0], n_pixels).astype(np.float32)\n",
    "X_test = X_test.reshape(X_test.shape[0], n_pixels).astype(np.float32)\n",
    "print(type(X_train), X_train.shape)\n",
    "print(type(X_test), X_test.shape)"
   ]
  },
  {
   "cell_type": "code",
   "execution_count": 217,
   "metadata": {},
   "outputs": [],
   "source": [
    "# Normalize inputs from 0-255 to 0-1\n",
    "X_train = X_train / 255\n",
    "X_test = X_test / 255"
   ]
  },
  {
   "cell_type": "code",
   "execution_count": 218,
   "metadata": {},
   "outputs": [
    {
     "name": "stdout",
     "output_type": "stream",
     "text": [
      "<class 'numpy.ndarray'> (60000, 10)\n",
      "<class 'numpy.ndarray'> (10000, 10)\n"
     ]
    }
   ],
   "source": [
    "# One hot encode outputs\n",
    "Y_train = np_utils.to_categorical(Y_train)\n",
    "Y_test = np_utils.to_categorical(Y_test)\n",
    "print(type(Y_train), Y_train.shape)\n",
    "print(type(Y_test), Y_test.shape)"
   ]
  },
  {
   "cell_type": "code",
   "execution_count": 219,
   "metadata": {},
   "outputs": [
    {
     "name": "stdout",
     "output_type": "stream",
     "text": [
      "10\n"
     ]
    }
   ],
   "source": [
    "n_classes = Y_test.shape[1]\n",
    "print(n_classes)"
   ]
  },
  {
   "cell_type": "code",
   "execution_count": 220,
   "metadata": {},
   "outputs": [],
   "source": [
    "# Reset the graph\n",
    "tf.reset_default_graph()"
   ]
  },
  {
   "cell_type": "code",
   "execution_count": 221,
   "metadata": {},
   "outputs": [],
   "source": [
    "# Build the NN model\n",
    "inputs = Input(shape=(n_pixels, ), name='input')\n",
    "with tf.name_scope('layer-1'):\n",
    "    X = Dense(500, kernel_initializer='normal', activation='relu', name='H1')(inputs)\n",
    "    X = Dropout(0.5, name='DO1')(X)\n",
    "with tf.name_scope('layer-2'):\n",
    "    X = Dense(300, kernel_initializer='normal', activation='relu', name='H2')(X)\n",
    "    X = Dropout(0.5, name='DO2')(X)\n",
    "with tf.name_scope('output'):\n",
    "    X = Dense(n_classes, kernel_initializer='normal', activation='softmax', name='output')(X)\n",
    "\n",
    "model = Model(inputs=inputs, outputs=X)"
   ]
  },
  {
   "cell_type": "code",
   "execution_count": 222,
   "metadata": {},
   "outputs": [
    {
     "name": "stdout",
     "output_type": "stream",
     "text": [
      "_________________________________________________________________\n",
      "Layer (type)                 Output Shape              Param #   \n",
      "=================================================================\n",
      "input (InputLayer)           (None, 784)               0         \n",
      "_________________________________________________________________\n",
      "H1 (Dense)                   (None, 500)               392500    \n",
      "_________________________________________________________________\n",
      "DO1 (Dropout)                (None, 500)               0         \n",
      "_________________________________________________________________\n",
      "H2 (Dense)                   (None, 300)               150300    \n",
      "_________________________________________________________________\n",
      "DO2 (Dropout)                (None, 300)               0         \n",
      "_________________________________________________________________\n",
      "output (Dense)               (None, 10)                3010      \n",
      "=================================================================\n",
      "Total params: 545,810\n",
      "Trainable params: 545,810\n",
      "Non-trainable params: 0\n",
      "_________________________________________________________________\n"
     ]
    }
   ],
   "source": [
    "model.summary()"
   ]
  },
  {
   "cell_type": "code",
   "execution_count": 223,
   "metadata": {},
   "outputs": [],
   "source": [
    "# Compile the model\n",
    "model.compile(loss='categorical_crossentropy', optimizer='adam', metrics=['accuracy'])"
   ]
  },
  {
   "cell_type": "code",
   "execution_count": 224,
   "metadata": {},
   "outputs": [],
   "source": [
    "# Define my own callback to show model summary on train begin\n",
    "class Mylogger(Callback):\n",
    "    def on_train_begin(self, logs=None):\n",
    "        print('On_train_begin')\n",
    "        print(print_summary(self.model))  "
   ]
  },
  {
   "cell_type": "code",
   "execution_count": 225,
   "metadata": {},
   "outputs": [],
   "source": [
    "logger = Mylogger()"
   ]
  },
  {
   "cell_type": "code",
   "execution_count": 226,
   "metadata": {},
   "outputs": [],
   "source": [
    "# Callback to show loss\n",
    "show_loss_callback = LambdaCallback(\n",
    "    on_epoch_end=lambda epoch, logs:\n",
    "        print(epoch, logs['loss'], type(epoch), type(logs['loss']))\n",
    ")"
   ]
  },
  {
   "cell_type": "code",
   "execution_count": 227,
   "metadata": {},
   "outputs": [],
   "source": [
    "# Function to plot loss\n",
    "def vis(epoch, loss):\n",
    "    plt.figure(1)\n",
    "    plt.scatter(epoch, loss, c='b')\n",
    "    plt.xlabel('epochs')\n",
    "    plt.ylabel('train-loss')\n",
    "    plt.title('The training process')"
   ]
  },
  {
   "cell_type": "code",
   "execution_count": 228,
   "metadata": {},
   "outputs": [],
   "source": [
    "# Callback to plot loss\n",
    "plot_loss_callback = LambdaCallback(\n",
    "    on_epoch_end=lambda epoch, logs:\n",
    "        vis(epoch, logs['loss'])\n",
    ")"
   ]
  },
  {
   "cell_type": "code",
   "execution_count": 229,
   "metadata": {},
   "outputs": [],
   "source": [
    "# Define my own callback to record loss history\n",
    "class LossHistory(Callback):\n",
    "    def on_train_begin(self, logs={}):\n",
    "        self.losses = []\n",
    "        self.val_losses = []\n",
    "    \n",
    "    def on_epoch_end(self, epoch, logs={}):\n",
    "        self.losses.append(logs['loss'])\n",
    "        self.val_losses.append(logs['val_loss'])\n",
    "    \n",
    "    def vis_loss(self):\n",
    "        plt.figure(2)\n",
    "        plt.plot(np.arange(len(self.losses)), self.losses, label='losses')\n",
    "        plt.plot(np.arange(len(self.val_losses)), self.val_losses, label='val_losses')\n",
    "        plt.xlabel('epochs')\n",
    "        plt.ylabel('loss')\n",
    "        plt.legend()\n",
    "        plt.title('Loss vs. epochs')"
   ]
  },
  {
   "cell_type": "code",
   "execution_count": 230,
   "metadata": {},
   "outputs": [],
   "source": [
    "history = LossHistory()"
   ]
  },
  {
   "cell_type": "code",
   "execution_count": 231,
   "metadata": {},
   "outputs": [],
   "source": [
    "# Callback to use TensorBoard\n",
    "tb_callback = TensorBoard(\n",
    "    log_dir='graph/', histogram_freq=0, write_graph=True, write_images=True\n",
    ")"
   ]
  },
  {
   "cell_type": "code",
   "execution_count": 232,
   "metadata": {},
   "outputs": [
    {
     "name": "stdout",
     "output_type": "stream",
     "text": [
      "Train on 60000 samples, validate on 10000 samples\n",
      "On_train_begin\n",
      "_________________________________________________________________\n",
      "Layer (type)                 Output Shape              Param #   \n",
      "=================================================================\n",
      "input (InputLayer)           (None, 784)               0         \n",
      "_________________________________________________________________\n",
      "H1 (Dense)                   (None, 500)               392500    \n",
      "_________________________________________________________________\n",
      "DO1 (Dropout)                (None, 500)               0         \n",
      "_________________________________________________________________\n",
      "H2 (Dense)                   (None, 300)               150300    \n",
      "_________________________________________________________________\n",
      "DO2 (Dropout)                (None, 300)               0         \n",
      "_________________________________________________________________\n",
      "output (Dense)               (None, 10)                3010      \n",
      "=================================================================\n",
      "Total params: 545,810\n",
      "Trainable params: 545,810\n",
      "Non-trainable params: 0\n",
      "_________________________________________________________________\n",
      "None\n",
      "Epoch 1/50\n",
      "60000/60000 [==============================] - 3s 53us/step - loss: 0.0134 - acc: 0.9963 - val_loss: 0.0770 - val_acc: 0.9861\n",
      "0 0.013440773118512394 <class 'int'> <class 'numpy.float64'>\n",
      "Epoch 2/50\n",
      "60000/60000 [==============================] - 3s 49us/step - loss: 0.0124 - acc: 0.9963 - val_loss: 0.0726 - val_acc: 0.9872\n",
      "1 0.012375656649346154 <class 'int'> <class 'numpy.float64'>\n",
      "Epoch 3/50\n",
      "60000/60000 [==============================] - 3s 46us/step - loss: 0.0141 - acc: 0.9960 - val_loss: 0.0777 - val_acc: 0.9865\n",
      "2 0.01405952433521549 <class 'int'> <class 'numpy.float64'>\n",
      "Epoch 4/50\n",
      "60000/60000 [==============================] - 3s 44us/step - loss: 0.0139 - acc: 0.9962 - val_loss: 0.0755 - val_acc: 0.9865\n",
      "3 0.013932323859694104 <class 'int'> <class 'numpy.float64'>\n",
      "Epoch 5/50\n",
      "60000/60000 [==============================] - 3s 44us/step - loss: 0.0127 - acc: 0.9965 - val_loss: 0.0802 - val_acc: 0.9857\n",
      "4 0.012679830772305528 <class 'int'> <class 'numpy.float64'>\n",
      "Epoch 6/50\n",
      "60000/60000 [==============================] - 3s 45us/step - loss: 0.0122 - acc: 0.9962 - val_loss: 0.0806 - val_acc: 0.9853\n",
      "5 0.012151519593695412 <class 'int'> <class 'numpy.float64'>\n",
      "Epoch 7/50\n",
      "60000/60000 [==============================] - 3s 43us/step - loss: 0.0129 - acc: 0.9965 - val_loss: 0.0777 - val_acc: 0.9864\n",
      "6 0.012914919576467947 <class 'int'> <class 'numpy.float64'>\n",
      "Epoch 8/50\n",
      "60000/60000 [==============================] - 3s 43us/step - loss: 0.0143 - acc: 0.9960 - val_loss: 0.0831 - val_acc: 0.9851\n",
      "7 0.014279655770212412 <class 'int'> <class 'numpy.float64'>\n",
      "Epoch 9/50\n",
      "60000/60000 [==============================] - 3s 43us/step - loss: 0.0134 - acc: 0.9963 - val_loss: 0.0793 - val_acc: 0.9854\n",
      "8 0.01336076207474495 <class 'int'> <class 'numpy.float64'>\n",
      "Epoch 10/50\n",
      "60000/60000 [==============================] - 3s 44us/step - loss: 0.0128 - acc: 0.9961 - val_loss: 0.0873 - val_acc: 0.9857\n",
      "9 0.012773108853648107 <class 'int'> <class 'numpy.float64'>\n",
      "Epoch 11/50\n",
      "60000/60000 [==============================] - 3s 45us/step - loss: 0.0141 - acc: 0.9961 - val_loss: 0.0862 - val_acc: 0.9845\n",
      "10 0.014142008567826513 <class 'int'> <class 'numpy.float64'>\n",
      "Epoch 12/50\n",
      "60000/60000 [==============================] - 3s 43us/step - loss: 0.0146 - acc: 0.9959 - val_loss: 0.0951 - val_acc: 0.9846\n",
      "11 0.014566274089055756 <class 'int'> <class 'numpy.float64'>\n",
      "Epoch 13/50\n",
      "60000/60000 [==============================] - 3s 45us/step - loss: 0.0142 - acc: 0.9959 - val_loss: 0.0840 - val_acc: 0.9854\n",
      "12 0.014159341213107109 <class 'int'> <class 'numpy.float64'>\n",
      "Epoch 14/50\n",
      "60000/60000 [==============================] - 3s 49us/step - loss: 0.0128 - acc: 0.9962 - val_loss: 0.0838 - val_acc: 0.9858\n",
      "13 0.012816212009793769 <class 'int'> <class 'numpy.float64'>\n",
      "Epoch 15/50\n",
      "60000/60000 [==============================] - 3s 47us/step - loss: 0.0120 - acc: 0.9964 - val_loss: 0.0787 - val_acc: 0.9854\n",
      "14 0.011964602053033499 <class 'int'> <class 'numpy.float64'>\n",
      "Epoch 16/50\n",
      "60000/60000 [==============================] - 3s 47us/step - loss: 0.0111 - acc: 0.9968 - val_loss: 0.0871 - val_acc: 0.9844\n",
      "15 0.011077530925402729 <class 'int'> <class 'numpy.float64'>\n",
      "Epoch 17/50\n",
      "60000/60000 [==============================] - 3s 49us/step - loss: 0.0131 - acc: 0.9963 - val_loss: 0.0791 - val_acc: 0.9865\n",
      "16 0.013104728897532914 <class 'int'> <class 'numpy.float64'>\n",
      "Epoch 18/50\n",
      "60000/60000 [==============================] - 3s 48us/step - loss: 0.0139 - acc: 0.9960 - val_loss: 0.0877 - val_acc: 0.9857\n",
      "17 0.013877767506055533 <class 'int'> <class 'numpy.float64'>\n",
      "Epoch 19/50\n",
      "60000/60000 [==============================] - 3s 47us/step - loss: 0.0126 - acc: 0.9966 - val_loss: 0.0826 - val_acc: 0.9856\n",
      "18 0.01262670729214636 <class 'int'> <class 'numpy.float64'>\n",
      "Epoch 20/50\n",
      "60000/60000 [==============================] - 3s 47us/step - loss: 0.0117 - acc: 0.9969 - val_loss: 0.0768 - val_acc: 0.9864\n",
      "19 0.011684104480367084 <class 'int'> <class 'numpy.float64'>\n",
      "Epoch 21/50\n",
      "60000/60000 [==============================] - 3s 46us/step - loss: 0.0117 - acc: 0.9966 - val_loss: 0.0785 - val_acc: 0.9859\n",
      "20 0.011737696088726322 <class 'int'> <class 'numpy.float64'>\n",
      "Epoch 22/50\n",
      "60000/60000 [==============================] - 3s 47us/step - loss: 0.0146 - acc: 0.9960 - val_loss: 0.0862 - val_acc: 0.9864\n",
      "21 0.014580803407666584 <class 'int'> <class 'numpy.float64'>\n",
      "Epoch 23/50\n",
      "60000/60000 [==============================] - 3s 48us/step - loss: 0.0125 - acc: 0.9960 - val_loss: 0.0780 - val_acc: 0.9859\n",
      "22 0.012456391437196483 <class 'int'> <class 'numpy.float64'>\n",
      "Epoch 24/50\n",
      "60000/60000 [==============================] - 3s 45us/step - loss: 0.0134 - acc: 0.9963 - val_loss: 0.0884 - val_acc: 0.9845\n",
      "23 0.013415187573370834 <class 'int'> <class 'numpy.float64'>\n",
      "Epoch 25/50\n",
      "60000/60000 [==============================] - 3s 46us/step - loss: 0.0120 - acc: 0.9967 - val_loss: 0.0856 - val_acc: 0.9853\n",
      "24 0.012046196521973859 <class 'int'> <class 'numpy.float64'>\n",
      "Epoch 26/50\n",
      "60000/60000 [==============================] - 3s 46us/step - loss: 0.0101 - acc: 0.9971 - val_loss: 0.0899 - val_acc: 0.9849\n",
      "25 0.01011571390684694 <class 'int'> <class 'numpy.float64'>\n",
      "Epoch 27/50\n",
      "60000/60000 [==============================] - 3s 46us/step - loss: 0.0106 - acc: 0.9970 - val_loss: 0.0909 - val_acc: 0.9857\n",
      "26 0.010560987596970517 <class 'int'> <class 'numpy.float64'>\n",
      "Epoch 28/50\n",
      "60000/60000 [==============================] - 3s 46us/step - loss: 0.0138 - acc: 0.9963 - val_loss: 0.0837 - val_acc: 0.9863\n",
      "27 0.013755530709323163 <class 'int'> <class 'numpy.float64'>\n",
      "Epoch 29/50\n",
      "60000/60000 [==============================] - 3s 46us/step - loss: 0.0122 - acc: 0.9967 - val_loss: 0.0939 - val_acc: 0.9853\n",
      "28 0.012182533375592903 <class 'int'> <class 'numpy.float64'>\n",
      "Epoch 30/50\n",
      "60000/60000 [==============================] - 3s 49us/step - loss: 0.0128 - acc: 0.9965 - val_loss: 0.0848 - val_acc: 0.9859\n",
      "29 0.01282955095053961 <class 'int'> <class 'numpy.float64'>\n",
      "Epoch 31/50\n",
      "60000/60000 [==============================] - 3s 48us/step - loss: 0.0119 - acc: 0.9963 - val_loss: 0.0812 - val_acc: 0.9858\n",
      "30 0.011860874720709399 <class 'int'> <class 'numpy.float64'>\n",
      "Epoch 32/50\n",
      "60000/60000 [==============================] - 3s 49us/step - loss: 0.0130 - acc: 0.9963 - val_loss: 0.0842 - val_acc: 0.9858\n",
      "31 0.012995439654185125 <class 'int'> <class 'numpy.float64'>\n",
      "Epoch 33/50\n",
      "60000/60000 [==============================] - 3s 47us/step - loss: 0.0121 - acc: 0.9964 - val_loss: 0.0840 - val_acc: 0.9858\n",
      "32 0.012116175030210676 <class 'int'> <class 'numpy.float64'>\n",
      "Epoch 34/50\n",
      "60000/60000 [==============================] - 3s 46us/step - loss: 0.0131 - acc: 0.9963 - val_loss: 0.0810 - val_acc: 0.9858\n",
      "33 0.01306117753526972 <class 'int'> <class 'numpy.float64'>\n",
      "Epoch 35/50\n",
      "60000/60000 [==============================] - 3s 46us/step - loss: 0.0134 - acc: 0.9965 - val_loss: 0.0849 - val_acc: 0.9857\n",
      "34 0.013364474689215422 <class 'int'> <class 'numpy.float64'>\n",
      "Epoch 36/50\n"
     ]
    },
    {
     "name": "stdout",
     "output_type": "stream",
     "text": [
      "60000/60000 [==============================] - 3s 45us/step - loss: 0.0114 - acc: 0.9968 - val_loss: 0.0882 - val_acc: 0.9861\n",
      "35 0.011439474147651344 <class 'int'> <class 'numpy.float64'>\n",
      "Epoch 37/50\n",
      "60000/60000 [==============================] - 3s 45us/step - loss: 0.0114 - acc: 0.9966 - val_loss: 0.0863 - val_acc: 0.9856\n",
      "36 0.011370632255721528 <class 'int'> <class 'numpy.float64'>\n",
      "Epoch 38/50\n",
      "60000/60000 [==============================] - 3s 45us/step - loss: 0.0105 - acc: 0.9971 - val_loss: 0.0917 - val_acc: 0.9850\n",
      "37 0.010527863012688855 <class 'int'> <class 'numpy.float64'>\n",
      "Epoch 39/50\n",
      "60000/60000 [==============================] - 3s 45us/step - loss: 0.0122 - acc: 0.9965 - val_loss: 0.0911 - val_acc: 0.9851\n",
      "38 0.012161740670732979 <class 'int'> <class 'numpy.float64'>\n",
      "Epoch 40/50\n",
      "60000/60000 [==============================] - 3s 44us/step - loss: 0.0142 - acc: 0.9961 - val_loss: 0.0852 - val_acc: 0.9860\n",
      "39 0.014226266414982577 <class 'int'> <class 'numpy.float64'>\n",
      "Epoch 41/50\n",
      "60000/60000 [==============================] - 3s 45us/step - loss: 0.0111 - acc: 0.9971 - val_loss: 0.0864 - val_acc: 0.9861\n",
      "40 0.011096511852554976 <class 'int'> <class 'numpy.float64'>\n",
      "Epoch 42/50\n",
      "60000/60000 [==============================] - 3s 48us/step - loss: 0.0110 - acc: 0.9970 - val_loss: 0.0932 - val_acc: 0.9845\n",
      "41 0.011005681069517353 <class 'int'> <class 'numpy.float64'>\n",
      "Epoch 43/50\n",
      "60000/60000 [==============================] - 3s 49us/step - loss: 0.0138 - acc: 0.9964 - val_loss: 0.0858 - val_acc: 0.9854\n",
      "42 0.013813733287140107 <class 'int'> <class 'numpy.float64'>\n",
      "Epoch 44/50\n",
      "60000/60000 [==============================] - 3s 48us/step - loss: 0.0123 - acc: 0.9965 - val_loss: 0.0876 - val_acc: 0.9848\n",
      "43 0.012294642982831283 <class 'int'> <class 'numpy.float64'>\n",
      "Epoch 45/50\n",
      "60000/60000 [==============================] - 3s 47us/step - loss: 0.0133 - acc: 0.9965 - val_loss: 0.0854 - val_acc: 0.9853\n",
      "44 0.013302224086100857 <class 'int'> <class 'numpy.float64'>\n",
      "Epoch 46/50\n",
      "60000/60000 [==============================] - 3s 47us/step - loss: 0.0123 - acc: 0.9968 - val_loss: 0.0898 - val_acc: 0.9848\n",
      "45 0.012262185807627005 <class 'int'> <class 'numpy.float64'>\n",
      "Epoch 47/50\n",
      "60000/60000 [==============================] - 3s 47us/step - loss: 0.0117 - acc: 0.9968 - val_loss: 0.0835 - val_acc: 0.9851\n",
      "46 0.011657596950915953 <class 'int'> <class 'numpy.float64'>\n",
      "Epoch 48/50\n",
      "60000/60000 [==============================] - 3s 49us/step - loss: 0.0127 - acc: 0.9964 - val_loss: 0.0898 - val_acc: 0.9845\n",
      "47 0.012721829221758525 <class 'int'> <class 'numpy.float64'>\n",
      "Epoch 49/50\n",
      "60000/60000 [==============================] - 3s 47us/step - loss: 0.0105 - acc: 0.9969 - val_loss: 0.0904 - val_acc: 0.9845\n",
      "48 0.010454624923868444 <class 'int'> <class 'numpy.float64'>\n",
      "Epoch 50/50\n",
      "60000/60000 [==============================] - 3s 46us/step - loss: 0.0119 - acc: 0.9965 - val_loss: 0.0825 - val_acc: 0.9860\n",
      "49 0.011936634189014634 <class 'int'> <class 'numpy.float64'>\n"
     ]
    },
    {
     "data": {
      "image/png": "[encoded data removed]",
      "text/plain": [
       "<Figure size 432x288 with 1 Axes>"
      ]
     },
     "metadata": {},
     "output_type": "display_data"
    }
   ],
   "source": [
    "# Fit the model\n",
    "model_history = model.fit(\n",
    "    X_train, Y_train, batch_size=256, epochs=50,\n",
    "    validation_data=(X_test, Y_test),\n",
    "    callbacks=[\n",
    "        logger,\n",
    "        tb_callback,\n",
    "        EarlyStopping(patience=50),\n",
    "        show_loss_callback,\n",
    "        plot_loss_callback,\n",
    "        history\n",
    "    ]\n",
    ")"
   ]
  },
  {
   "cell_type": "code",
   "execution_count": 235,
   "metadata": {},
   "outputs": [
    {
     "data": {
      "image/png": "[encoded data removed]",
      "text/plain": [
       "<Figure size 432x288 with 1 Axes>"
      ]
     },
     "metadata": {},
     "output_type": "display_data"
    }
   ],
   "source": [
    "# Visualize training losses\n",
    "history.vis_loss()"
   ]
  },
  {
   "cell_type": "code",
   "execution_count": 233,
   "metadata": {},
   "outputs": [
    {
     "name": "stdout",
     "output_type": "stream",
     "text": [
      "10000/10000 [==============================] - 0s 31us/step\n",
      "Test loss:  0.0824784789949742\n",
      "Test accuracy:  0.986\n"
     ]
    }
   ],
   "source": [
    "# Evaluate the model\n",
    "score = model.evaluate(X_test, Y_test)\n",
    "print('Test loss: ', score[0])\n",
    "print('Test accuracy: ', score[1])"
   ]
  },
  {
   "cell_type": "code",
   "execution_count": null,
   "metadata": {},
   "outputs": [],
   "source": [
    "# To run TensorBoard, run the following command in terminal\n",
    "!tensorboard --logdir=\"graph\""
   ]
  }
 ],
 "metadata": {
  "kernelspec": {
   "display_name": "Python 3",
   "language": "python",
   "name": "python3"
  },
  "language_info": {
   "codemirror_mode": {
    "name": "ipython",
    "version": 3
   },
   "file_extension": ".py",
   "mimetype": "text/x-python",
   "name": "python",
   "nbconvert_exporter": "python",
   "pygments_lexer": "ipython3",
   "version": "3.6.5"
  }
 },
 "nbformat": 4,
 "nbformat_minor": 2
}
