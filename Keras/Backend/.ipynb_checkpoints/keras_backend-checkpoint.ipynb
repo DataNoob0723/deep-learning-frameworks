{
 "cells": [
  {
   "cell_type": "code",
   "execution_count": 5,
   "metadata": {},
   "outputs": [],
   "source": [
    "from keras import backend as K\n",
    "from keras.models import Model, Sequential\n",
    "from keras.layers import Dense\n",
    "import numpy as np"
   ]
  },
  {
   "cell_type": "code",
   "execution_count": 6,
   "metadata": {},
   "outputs": [
    {
     "name": "stdout",
     "output_type": "stream",
     "text": [
      "[[ 1.9917984  -1.2707841   0.66252786  0.31407243 -1.3664075  -1.5141468\n",
      "   0.8935723   0.5202015  -2.6051216  -1.3630865 ]]\n"
     ]
    }
   ],
   "source": [
    "# Obtain the output of an intermediate layer\n",
    "# Create the model\n",
    "model = Sequential()\n",
    "model.add(Dense(10, input_shape=(3,), name='dense_1'))\n",
    "model.add(Dense(10, name='dense_2'))\n",
    "model.add(Dense(10, name='dense_3'))\n",
    "model.add(Dense(10, name='dense_4'))\n",
    "model.add(Dense(10, name='dense_5'))\n",
    "\n",
    "layer_name = 'dense_1'\n",
    "intermediate_layer_model = Model(inputs=model.input,\n",
    "                                 outputs=model.get_layer(layer_name).output)\n",
    "\n",
    "intermediate_output = intermediate_layer_model.predict(np.array([[1, 2, 3]]))\n",
    "print(intermediate_output)"
   ]
  },
  {
   "cell_type": "code",
   "execution_count": 8,
   "metadata": {},
   "outputs": [
    {
     "name": "stdout",
     "output_type": "stream",
     "text": [
      "[[ 1.9917984  -1.2707841   0.66252786  0.31407243 -1.3664075  -1.5141468\n",
      "   0.8935723   0.5202015  -2.6051216  -1.3630865 ]]\n"
     ]
    }
   ],
   "source": [
    "# An alternative way\n",
    "get_layer_output = K.function([model.layers[0].input],\n",
    "                              [model.get_layer(layer_name).output])\n",
    "layer_output = get_layer_output([np.array([[1, 2, 3]])])[0]\n",
    "print(layer_output)"
   ]
  }
 ],
 "metadata": {
  "kernelspec": {
   "display_name": "Python 3",
   "language": "python",
   "name": "python3"
  },
  "language_info": {
   "codemirror_mode": {
    "name": "ipython",
    "version": 3
   },
   "file_extension": ".py",
   "mimetype": "text/x-python",
   "name": "python",
   "nbconvert_exporter": "python",
   "pygments_lexer": "ipython3",
   "version": "3.6.5"
  }
 },
 "nbformat": 4,
 "nbformat_minor": 2
}
