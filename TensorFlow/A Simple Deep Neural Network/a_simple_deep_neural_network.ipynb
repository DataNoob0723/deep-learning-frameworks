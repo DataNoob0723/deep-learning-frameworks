{
 "cells": [
  {
   "cell_type": "code",
   "execution_count": 30,
   "metadata": {},
   "outputs": [],
   "source": [
    "# Import dependencies\n",
    "import tensorflow as tf\n",
    "import numpy as np\n",
    "import matplotlib.pyplot as plt\n",
    "from tensorflow.python.client import device_lib\n",
    "from keras.utils import to_categorical\n",
    "from sklearn.model_selection import train_test_split"
   ]
  },
  {
   "cell_type": "code",
   "execution_count": 31,
   "metadata": {},
   "outputs": [
    {
     "name": "stdout",
     "output_type": "stream",
     "text": [
      "The version of TensorFlow is: 1.10.0\n"
     ]
    }
   ],
   "source": [
    "# Print TensorFlow version\n",
    "print(\"The version of TensorFlow is:\", tf.__version__)"
   ]
  },
  {
   "cell_type": "code",
   "execution_count": 32,
   "metadata": {},
   "outputs": [
    {
     "name": "stdout",
     "output_type": "stream",
     "text": [
      "[name: \"/device:CPU:0\"\n",
      "device_type: \"CPU\"\n",
      "memory_limit: 268435456\n",
      "locality {\n",
      "}\n",
      "incarnation: 3410479384407728056\n",
      ", name: \"/device:GPU:0\"\n",
      "device_type: \"GPU\"\n",
      "memory_limit: 5075169280\n",
      "locality {\n",
      "  bus_id: 1\n",
      "  links {\n",
      "  }\n",
      "}\n",
      "incarnation: 11940516093853440171\n",
      "physical_device_desc: \"device: 0, name: GeForce GTX 980 Ti, pci bus id: 0000:01:00.0, compute capability: 5.2\"\n",
      "]\n"
     ]
    }
   ],
   "source": [
    "# Check local devices\n",
    "print(device_lib.list_local_devices())"
   ]
  },
  {
   "cell_type": "code",
   "execution_count": 33,
   "metadata": {},
   "outputs": [],
   "source": [
    "# Load data\n",
    "mnist = tf.keras.datasets.mnist\n",
    "(X_train, Y_train), (X_test, Y_test) = mnist.load_data()"
   ]
  },
  {
   "cell_type": "code",
   "execution_count": 34,
   "metadata": {},
   "outputs": [
    {
     "data": {
      "text/plain": [
       "numpy.ndarray"
      ]
     },
     "execution_count": 34,
     "metadata": {},
     "output_type": "execute_result"
    }
   ],
   "source": [
    "type(X_train)"
   ]
  },
  {
   "cell_type": "code",
   "execution_count": 35,
   "metadata": {},
   "outputs": [
    {
     "name": "stdout",
     "output_type": "stream",
     "text": [
      "(60000, 28, 28)\n",
      "(60000,)\n",
      "(10000, 28, 28)\n",
      "(10000,)\n"
     ]
    }
   ],
   "source": [
    "print(X_train.shape)\n",
    "print(Y_train.shape)\n",
    "print(X_test.shape)\n",
    "print(Y_test.shape)"
   ]
  },
  {
   "cell_type": "code",
   "execution_count": 36,
   "metadata": {},
   "outputs": [
    {
     "data": {
      "image/png": "[encoded data removed]",
      "text/plain": [
       "<Figure size 432x288 with 4 Axes>"
      ]
     },
     "metadata": {},
     "output_type": "display_data"
    }
   ],
   "source": [
    "# Show sample figures\n",
    "plt.subplot(221)\n",
    "plt.imshow(X_train[0], cmap=plt.get_cmap('gray'))\n",
    "plt.subplot(222)\n",
    "plt.imshow(X_train[1], cmap=plt.get_cmap('gray'))\n",
    "plt.subplot(223)\n",
    "plt.imshow(X_train[2], cmap=plt.get_cmap('gray'))\n",
    "plt.subplot(224)\n",
    "plt.imshow(X_train[3], cmap=plt.get_cmap('gray'))\n",
    "# Show the plot\n",
    "plt.show()"
   ]
  },
  {
   "cell_type": "code",
   "execution_count": 37,
   "metadata": {},
   "outputs": [],
   "source": [
    "# Need to reshape x data\n",
    "num_pixels = X_train.shape[1] * X_train.shape[2]\n",
    "X_train = X_train.reshape(X_train.shape[0], num_pixels).astype(\"float32\")\n",
    "X_test = X_test.reshape(X_test.shape[0], num_pixels).astype(\"float32\")"
   ]
  },
  {
   "cell_type": "code",
   "execution_count": 38,
   "metadata": {},
   "outputs": [
    {
     "name": "stdout",
     "output_type": "stream",
     "text": [
      "(60000, 784)\n",
      "(10000, 784)\n"
     ]
    }
   ],
   "source": [
    "print(X_train.shape)\n",
    "print(X_test.shape)"
   ]
  },
  {
   "cell_type": "code",
   "execution_count": 39,
   "metadata": {},
   "outputs": [],
   "source": [
    "# Normalize the x data\n",
    "X_train, X_test = X_train / 255.0, X_test / 255.0"
   ]
  },
  {
   "cell_type": "code",
   "execution_count": 40,
   "metadata": {},
   "outputs": [
    {
     "data": {
      "text/plain": [
       "array([5, 0, 4, 1, 9, 2, 1, 3, 1, 4], dtype=uint8)"
      ]
     },
     "execution_count": 40,
     "metadata": {},
     "output_type": "execute_result"
    }
   ],
   "source": [
    "Y_train[:10]"
   ]
  },
  {
   "cell_type": "code",
   "execution_count": 41,
   "metadata": {},
   "outputs": [],
   "source": [
    "# One Hot encoding\n",
    "Y_train_oh = to_categorical(Y_train)\n",
    "Y_test_oh = to_categorical(Y_test)"
   ]
  },
  {
   "cell_type": "code",
   "execution_count": 42,
   "metadata": {},
   "outputs": [
    {
     "name": "stdout",
     "output_type": "stream",
     "text": [
      "(60000, 10)\n",
      "(10000, 10)\n"
     ]
    }
   ],
   "source": [
    "print(Y_train_oh.shape)\n",
    "print(Y_test_oh.shape)"
   ]
  },
  {
   "cell_type": "code",
   "execution_count": 43,
   "metadata": {},
   "outputs": [],
   "source": [
    "# Split the train set into a new train set and a dev set\n",
    "X_train, X_dev, Y_train_oh, Y_dev_oh = train_test_split(\n",
    "                                X_train, Y_train_oh, test_size=5000, random_state=23\n",
    ")"
   ]
  },
  {
   "cell_type": "code",
   "execution_count": 44,
   "metadata": {},
   "outputs": [
    {
     "name": "stdout",
     "output_type": "stream",
     "text": [
      "(55000, 784)\n",
      "(5000, 784)\n",
      "(55000, 10)\n",
      "(5000, 10)\n"
     ]
    }
   ],
   "source": [
    "print(X_train.shape)\n",
    "print(X_dev.shape)\n",
    "print(Y_train_oh.shape)\n",
    "print(Y_dev_oh.shape)"
   ]
  },
  {
   "cell_type": "code",
   "execution_count": 45,
   "metadata": {},
   "outputs": [
    {
     "name": "stdout",
     "output_type": "stream",
     "text": [
      "784\n",
      "10\n"
     ]
    }
   ],
   "source": [
    "# Data dimensions\n",
    "img_size_flat = X_train.shape[1]\n",
    "n_classes = Y_train_oh.shape[1]\n",
    "print(img_size_flat)\n",
    "print(n_classes)"
   ]
  },
  {
   "cell_type": "code",
   "execution_count": 46,
   "metadata": {},
   "outputs": [],
   "source": [
    "# Define our Neural Network\n",
    "class Network():\n",
    "    def __init__(self, X_train, Y_train_oh, X_dev, Y_dev_oh, batch_size_train, n_epochs=100, lr=0.1):\n",
    "        \"\"\"\n",
    "        m_train: number of training samples\n",
    "        \"\"\"\n",
    "        # Hyperparameters\n",
    "        self.X_train = X_train\n",
    "        self.Y_train_oh = Y_train_oh\n",
    "        self.X_dev = X_dev\n",
    "        self.Y_dev_oh = Y_dev_oh\n",
    "        self.m_train = self.X_train.shape[0]\n",
    "        self.batch_size_train = batch_size_train\n",
    "        self.n_batches = self.m_train // self.batch_size_train\n",
    "        self.n_epochs = n_epochs\n",
    "        self.lr = lr\n",
    "        \n",
    "        # Graph related\n",
    "        self.graph = tf.Graph()\n",
    "        self.X = None\n",
    "        self.Y_oh = None\n",
    "        \n",
    "        # Initialize\n",
    "        self.define_graph()\n",
    "        self.session = tf.Session(graph=self.graph)\n",
    "        \n",
    "    def define_graph(self):\n",
    "        with self.graph.as_default():\n",
    "            self.X = tf.placeholder(tf.float32, (None, img_size_flat))\n",
    "            self.Y_oh = tf.placeholder(tf.float32, (None, n_classes))\n",
    "            \n",
    "            # Variables to be optimized\n",
    "            self.Weights = {\n",
    "                            'W_1': tf.Variable(tf.truncated_normal((img_size_flat, 689), stddev=0.1)), # Hidden layer 1\n",
    "                            'W_2': tf.Variable(tf.truncated_normal((689, 689), stddev=0.1)), # Hidden layer2\n",
    "                            'W_3': tf.Variable(tf.truncated_normal((689, n_classes), stddev=0.1)) # Output layer (layer 3)\n",
    "                            } \n",
    "            \n",
    "            self.biases = {\n",
    "                           'b_1': tf.Variable(tf.zeros((1, 689)) + 0.1), # Hidden layer 1\n",
    "                           'b_2': tf.Variable(tf.zeros((1, 689)) + 0.1), # Hidden layer 2\n",
    "                           'b_3': tf.Variable(tf.zeros((1, n_classes)) + 0.1) # Output layer (layer 3)\n",
    "                           } \n",
    "            \n",
    "            # Calculations\n",
    "            def model(X):\n",
    "                # Hidden layer 1\n",
    "                Z_1 = tf.matmul(X, self.Weights['W_1']) + self.biases['b_1']\n",
    "                A_1 = tf.nn.relu(Z_1)\n",
    "                # Hidden layer 2\n",
    "                Z_2 = tf.matmul(A_1, self.Weights['W_2']) + self.biases['b_2']\n",
    "                A_2 = tf.nn.relu(Z_2)\n",
    "                # Output layer (layer 3)\n",
    "                Z_3 = tf.matmul(A_2, self.Weights['W_3']) + self.biases['b_3']\n",
    "                \n",
    "                return Z_3\n",
    "            \n",
    "            # Training\n",
    "            self.logits = model(self.X)\n",
    "            self.cost = tf.reduce_mean(tf.nn.softmax_cross_entropy_with_logits(logits=self.logits, labels=self.Y_oh))\n",
    "                \n",
    "            # Optimizer\n",
    "            self.optimizer = tf.train.GradientDescentOptimizer(self.lr).minimize(self.cost)\n",
    "            \n",
    "            # Predictions\n",
    "            self.Y_pred = tf.nn.softmax(self.logits)\n",
    "            self.correct_prediction = tf.equal(tf.argmax(self.Y_oh, 1), tf.arg_max(self.Y_pred, 1))\n",
    "            self.accuracy = tf.reduce_mean(tf.cast(self.correct_prediction, tf.float32))\n",
    "    \n",
    "    def run(self):\n",
    "        with self.session as sess:\n",
    "            tf.initialize_all_variables().run()\n",
    "            avg_cost_list = []\n",
    "            acc_list = []\n",
    "            # Loop through epochs\n",
    "            for epoch in range(self.n_epochs):\n",
    "                avg_cost = 0\n",
    "                # Shuffle the train data\n",
    "                s = np.arange(self.m_train)\n",
    "                np.random.shuffle(s)\n",
    "                self.X_train = self.X_train[s]\n",
    "                self.Y_train_oh = self.Y_train_oh[s]\n",
    "                # Loop through mini-batches\n",
    "                for batch in range(self.n_batches + 1):\n",
    "                    # Generate mini-batch data\n",
    "                    if batch < self.n_batches:\n",
    "                        X_batch = self.X_train[(0 + batch * self.batch_size_train):(self.batch_size_train + batch * self.batch_size_train)]\n",
    "                        Y_oh_batch = self.Y_train_oh[(0 + batch * self.batch_size_train):(self.batch_size_train + batch * self.batch_size_train)]\n",
    "                    else:\n",
    "                        # Use the rest of the data\n",
    "                        X_batch = self.X_train[(self.n_batches * self.batch_size_train):self.m_train]\n",
    "                        Y_oh_batch = self.Y_train_oh[(self.n_batches * self.batch_size_train):self.m_train]\n",
    "                    feed_dict_train = {\n",
    "                        self.X: X_batch,\n",
    "                        self.Y_oh: Y_oh_batch\n",
    "                    }\n",
    "                    sess.run(self.optimizer, feed_dict=feed_dict_train)\n",
    "                    c = sess.run(self.cost, feed_dict=feed_dict_train)\n",
    "                    avg_cost = c / (self.n_batches + 1)\n",
    "                avg_cost_list.append(avg_cost)\n",
    "                feed_dict_dev = {\n",
    "                    self.X: self.X_dev,\n",
    "                    self.Y_oh: self.Y_dev_oh\n",
    "                }\n",
    "                acc = sess.run(self.accuracy, feed_dict=feed_dict_dev)\n",
    "                print(f\"epoch: {epoch}, Dev Set Accuracy: {acc}\")\n",
    "                acc_list.append(acc)\n",
    "                print(f\"Average cost: {avg_cost}\")\n",
    "                print(\"-\" * 60)\n",
    "            # Generate plots\n",
    "            x_axis = np.arange(1, self.n_epochs + 1)\n",
    "            plt.subplot(2, 1, 1)\n",
    "            plt.plot(x_axis, acc_list)\n",
    "            plt.xlabel('epoch')\n",
    "            plt.ylabel('accuracy')\n",
    "            plt.subplot(2, 1, 2)\n",
    "            plt.plot(x_axis, avg_cost_list)\n",
    "            plt.xlabel('epoch')\n",
    "            plt.ylabel('average cost')\n",
    "            plt.show()   "
   ]
  },
  {
   "cell_type": "code",
   "execution_count": 47,
   "metadata": {
    "scrolled": false
   },
   "outputs": [
    {
     "name": "stdout",
     "output_type": "stream",
     "text": [
      "epoch: 0, Dev Set Accuracy: 0.9472000002861023\n",
      "Average cost: 0.0002657309174537659\n",
      "------------------------------------------------------------\n",
      "epoch: 1, Dev Set Accuracy: 0.9631999731063843\n",
      "Average cost: 7.12085991751316e-05\n",
      "------------------------------------------------------------\n",
      "epoch: 2, Dev Set Accuracy: 0.9657999873161316\n",
      "Average cost: 7.724824339844459e-05\n",
      "------------------------------------------------------------\n",
      "epoch: 3, Dev Set Accuracy: 0.9684000015258789\n",
      "Average cost: 7.039057740638423e-05\n",
      "------------------------------------------------------------\n",
      "epoch: 4, Dev Set Accuracy: 0.9711999893188477\n",
      "Average cost: 1.874896372820056e-05\n",
      "------------------------------------------------------------\n",
      "epoch: 5, Dev Set Accuracy: 0.9732000231742859\n",
      "Average cost: 2.933570595328198e-05\n",
      "------------------------------------------------------------\n",
      "epoch: 6, Dev Set Accuracy: 0.9718000292778015\n",
      "Average cost: 3.796167411776476e-05\n",
      "------------------------------------------------------------\n",
      "epoch: 7, Dev Set Accuracy: 0.9760000109672546\n",
      "Average cost: 2.1756546528533448e-05\n",
      "------------------------------------------------------------\n",
      "epoch: 8, Dev Set Accuracy: 0.9760000109672546\n",
      "Average cost: 1.7553831039126528e-05\n",
      "------------------------------------------------------------\n",
      "epoch: 9, Dev Set Accuracy: 0.9757999777793884\n",
      "Average cost: 1.4011450328452642e-05\n",
      "------------------------------------------------------------\n",
      "epoch: 10, Dev Set Accuracy: 0.9765999913215637\n",
      "Average cost: 1.785857819540556e-05\n",
      "------------------------------------------------------------\n",
      "epoch: 11, Dev Set Accuracy: 0.9739999771118164\n",
      "Average cost: 1.864617170636044e-05\n",
      "------------------------------------------------------------\n",
      "epoch: 12, Dev Set Accuracy: 0.9761999845504761\n",
      "Average cost: 1.170420261143252e-05\n",
      "------------------------------------------------------------\n",
      "epoch: 13, Dev Set Accuracy: 0.9771999716758728\n",
      "Average cost: 5.714604522772999e-06\n",
      "------------------------------------------------------------\n",
      "epoch: 14, Dev Set Accuracy: 0.9761999845504761\n",
      "Average cost: 1.1394588753234509e-05\n",
      "------------------------------------------------------------\n",
      "epoch: 15, Dev Set Accuracy: 0.9757999777793884\n",
      "Average cost: 1.0739530025179996e-05\n",
      "------------------------------------------------------------\n",
      "epoch: 16, Dev Set Accuracy: 0.9771999716758728\n",
      "Average cost: 6.535562664963479e-06\n",
      "------------------------------------------------------------\n",
      "epoch: 17, Dev Set Accuracy: 0.9769999980926514\n",
      "Average cost: 7.265092003657375e-06\n",
      "------------------------------------------------------------\n",
      "epoch: 18, Dev Set Accuracy: 0.9769999980926514\n",
      "Average cost: 4.042345532324425e-06\n",
      "------------------------------------------------------------\n",
      "epoch: 19, Dev Set Accuracy: 0.9768000245094299\n",
      "Average cost: 7.335654308283052e-06\n",
      "------------------------------------------------------------\n",
      "epoch: 20, Dev Set Accuracy: 0.9779999852180481\n",
      "Average cost: 7.341223833865898e-06\n",
      "------------------------------------------------------------\n",
      "epoch: 21, Dev Set Accuracy: 0.977400004863739\n",
      "Average cost: 5.7622719945949175e-06\n",
      "------------------------------------------------------------\n",
      "epoch: 22, Dev Set Accuracy: 0.9768000245094299\n",
      "Average cost: 7.814362775101217e-06\n",
      "------------------------------------------------------------\n",
      "epoch: 23, Dev Set Accuracy: 0.9764000177383423\n",
      "Average cost: 4.798132752956346e-06\n",
      "------------------------------------------------------------\n",
      "epoch: 24, Dev Set Accuracy: 0.9771999716758728\n",
      "Average cost: 4.350141687102096e-06\n",
      "------------------------------------------------------------\n",
      "epoch: 25, Dev Set Accuracy: 0.977400004863739\n",
      "Average cost: 3.6352787838252476e-06\n",
      "------------------------------------------------------------\n",
      "epoch: 26, Dev Set Accuracy: 0.977400004863739\n",
      "Average cost: 8.407480971411217e-06\n",
      "------------------------------------------------------------\n",
      "epoch: 27, Dev Set Accuracy: 0.9782000184059143\n",
      "Average cost: 5.048628203397574e-06\n",
      "------------------------------------------------------------\n",
      "epoch: 28, Dev Set Accuracy: 0.9769999980926514\n",
      "Average cost: 2.914738061642924e-06\n",
      "------------------------------------------------------------\n",
      "epoch: 29, Dev Set Accuracy: 0.9771999716758728\n",
      "Average cost: 2.8869730073872e-06\n",
      "------------------------------------------------------------\n",
      "epoch: 30, Dev Set Accuracy: 0.9778000116348267\n",
      "Average cost: 4.626434231393559e-06\n",
      "------------------------------------------------------------\n",
      "epoch: 31, Dev Set Accuracy: 0.9771999716758728\n",
      "Average cost: 2.7486323487273483e-06\n",
      "------------------------------------------------------------\n",
      "epoch: 32, Dev Set Accuracy: 0.9778000116348267\n",
      "Average cost: 2.4014972908379035e-06\n",
      "------------------------------------------------------------\n",
      "epoch: 33, Dev Set Accuracy: 0.9775999784469604\n",
      "Average cost: 2.83984943877819e-06\n",
      "------------------------------------------------------------\n",
      "epoch: 34, Dev Set Accuracy: 0.9778000116348267\n",
      "Average cost: 5.513749648492003e-06\n",
      "------------------------------------------------------------\n",
      "epoch: 35, Dev Set Accuracy: 0.977400004863739\n",
      "Average cost: 4.0295899325851785e-06\n",
      "------------------------------------------------------------\n",
      "epoch: 36, Dev Set Accuracy: 0.9775999784469604\n",
      "Average cost: 2.0813988792428443e-06\n",
      "------------------------------------------------------------\n",
      "epoch: 37, Dev Set Accuracy: 0.9769999980926514\n",
      "Average cost: 3.7213078115222067e-06\n",
      "------------------------------------------------------------\n",
      "epoch: 38, Dev Set Accuracy: 0.978600025177002\n",
      "Average cost: 1.5654459021725628e-06\n",
      "------------------------------------------------------------\n",
      "epoch: 39, Dev Set Accuracy: 0.9779999852180481\n",
      "Average cost: 2.5369511202497538e-06\n",
      "------------------------------------------------------------\n",
      "epoch: 40, Dev Set Accuracy: 0.9778000116348267\n",
      "Average cost: 3.1678241590947606e-06\n",
      "------------------------------------------------------------\n",
      "epoch: 41, Dev Set Accuracy: 0.9775999784469604\n",
      "Average cost: 5.582310692515484e-06\n",
      "------------------------------------------------------------\n",
      "epoch: 42, Dev Set Accuracy: 0.9778000116348267\n",
      "Average cost: 2.0303607777540766e-06\n",
      "------------------------------------------------------------\n",
      "epoch: 43, Dev Set Accuracy: 0.9783999919891357\n",
      "Average cost: 1.120778019973185e-06\n",
      "------------------------------------------------------------\n",
      "epoch: 44, Dev Set Accuracy: 0.9775999784469604\n",
      "Average cost: 4.747838626594044e-06\n",
      "------------------------------------------------------------\n",
      "epoch: 45, Dev Set Accuracy: 0.9779999852180481\n",
      "Average cost: 2.878816625060037e-06\n",
      "------------------------------------------------------------\n",
      "epoch: 46, Dev Set Accuracy: 0.9778000116348267\n",
      "Average cost: 1.8774506062009306e-06\n",
      "------------------------------------------------------------\n",
      "epoch: 47, Dev Set Accuracy: 0.9775999784469604\n",
      "Average cost: 1.1576600860111243e-06\n",
      "------------------------------------------------------------\n",
      "epoch: 48, Dev Set Accuracy: 0.9782000184059143\n",
      "Average cost: 1.203362981593886e-06\n",
      "------------------------------------------------------------\n",
      "epoch: 49, Dev Set Accuracy: 0.9775999784469604\n",
      "Average cost: 1.605631794433954e-06\n",
      "------------------------------------------------------------\n",
      "epoch: 50, Dev Set Accuracy: 0.9778000116348267\n",
      "Average cost: 9.64669337452844e-07\n",
      "------------------------------------------------------------\n",
      "epoch: 51, Dev Set Accuracy: 0.9779999852180481\n",
      "Average cost: 2.2889661797603894e-06\n",
      "------------------------------------------------------------\n",
      "epoch: 52, Dev Set Accuracy: 0.9775999784469604\n",
      "Average cost: 3.0337118132169855e-06\n",
      "------------------------------------------------------------\n",
      "epoch: 53, Dev Set Accuracy: 0.9769999980926514\n",
      "Average cost: 2.991439243995173e-06\n",
      "------------------------------------------------------------\n",
      "epoch: 54, Dev Set Accuracy: 0.9775999784469604\n",
      "Average cost: 1.283034243685908e-06\n",
      "------------------------------------------------------------\n",
      "epoch: 55, Dev Set Accuracy: 0.9779999852180481\n",
      "Average cost: 3.2855295251275216e-06\n",
      "------------------------------------------------------------\n",
      "epoch: 56, Dev Set Accuracy: 0.9778000116348267\n",
      "Average cost: 6.025893272572132e-07\n",
      "------------------------------------------------------------\n"
     ]
    },
    {
     "name": "stdout",
     "output_type": "stream",
     "text": [
      "epoch: 57, Dev Set Accuracy: 0.9783999919891357\n",
      "Average cost: 1.2817034541174424e-06\n",
      "------------------------------------------------------------\n",
      "epoch: 58, Dev Set Accuracy: 0.9779999852180481\n",
      "Average cost: 3.097258064202791e-06\n",
      "------------------------------------------------------------\n",
      "epoch: 59, Dev Set Accuracy: 0.9778000116348267\n",
      "Average cost: 1.4430422303375116e-06\n",
      "------------------------------------------------------------\n",
      "epoch: 60, Dev Set Accuracy: 0.9778000116348267\n",
      "Average cost: 7.802255040164603e-07\n",
      "------------------------------------------------------------\n",
      "epoch: 61, Dev Set Accuracy: 0.9775999784469604\n",
      "Average cost: 1.8556185369921286e-06\n",
      "------------------------------------------------------------\n",
      "epoch: 62, Dev Set Accuracy: 0.9778000116348267\n",
      "Average cost: 1.57930311573626e-06\n",
      "------------------------------------------------------------\n",
      "epoch: 63, Dev Set Accuracy: 0.977400004863739\n",
      "Average cost: 9.060467100637251e-07\n",
      "------------------------------------------------------------\n",
      "epoch: 64, Dev Set Accuracy: 0.978600025177002\n",
      "Average cost: 1.2314284144532542e-06\n",
      "------------------------------------------------------------\n",
      "epoch: 65, Dev Set Accuracy: 0.9778000116348267\n",
      "Average cost: 1.0178818334933631e-06\n",
      "------------------------------------------------------------\n",
      "epoch: 66, Dev Set Accuracy: 0.9783999919891357\n",
      "Average cost: 1.702040601738317e-06\n",
      "------------------------------------------------------------\n",
      "epoch: 67, Dev Set Accuracy: 0.9778000116348267\n",
      "Average cost: 1.1752191714422647e-06\n",
      "------------------------------------------------------------\n",
      "epoch: 68, Dev Set Accuracy: 0.9779999852180481\n",
      "Average cost: 9.343983757114687e-07\n",
      "------------------------------------------------------------\n",
      "epoch: 69, Dev Set Accuracy: 0.9779999852180481\n",
      "Average cost: 7.564712960143076e-07\n",
      "------------------------------------------------------------\n",
      "epoch: 70, Dev Set Accuracy: 0.9783999919891357\n",
      "Average cost: 1.012949817164173e-06\n",
      "------------------------------------------------------------\n",
      "epoch: 71, Dev Set Accuracy: 0.978600025177002\n",
      "Average cost: 1.0967839422614075e-06\n",
      "------------------------------------------------------------\n",
      "epoch: 72, Dev Set Accuracy: 0.9782000184059143\n",
      "Average cost: 1.235500649484091e-06\n",
      "------------------------------------------------------------\n",
      "epoch: 73, Dev Set Accuracy: 0.9779999852180481\n",
      "Average cost: 1.8268823623657226e-06\n",
      "------------------------------------------------------------\n",
      "epoch: 74, Dev Set Accuracy: 0.9782000184059143\n",
      "Average cost: 4.4749257815352014e-07\n",
      "------------------------------------------------------------\n",
      "epoch: 75, Dev Set Accuracy: 0.9778000116348267\n",
      "Average cost: 1.9438915377006282e-06\n",
      "------------------------------------------------------------\n",
      "epoch: 76, Dev Set Accuracy: 0.9779999852180481\n",
      "Average cost: 1.066433249561246e-06\n",
      "------------------------------------------------------------\n",
      "epoch: 77, Dev Set Accuracy: 0.9778000116348267\n",
      "Average cost: 1.2268852388356313e-06\n",
      "------------------------------------------------------------\n",
      "epoch: 78, Dev Set Accuracy: 0.9779999852180481\n",
      "Average cost: 1.7007219951686472e-06\n",
      "------------------------------------------------------------\n",
      "epoch: 79, Dev Set Accuracy: 0.978600025177002\n",
      "Average cost: 1.4547629520123782e-06\n",
      "------------------------------------------------------------\n",
      "epoch: 80, Dev Set Accuracy: 0.9783999919891357\n",
      "Average cost: 1.656359770920041e-06\n",
      "------------------------------------------------------------\n",
      "epoch: 81, Dev Set Accuracy: 0.9783999919891357\n",
      "Average cost: 9.358301488032868e-07\n",
      "------------------------------------------------------------\n",
      "epoch: 82, Dev Set Accuracy: 0.9783999919891357\n",
      "Average cost: 1.4915321899448024e-06\n",
      "------------------------------------------------------------\n",
      "epoch: 83, Dev Set Accuracy: 0.9779999852180481\n",
      "Average cost: 8.622698112239325e-07\n",
      "------------------------------------------------------------\n",
      "epoch: 84, Dev Set Accuracy: 0.9782000184059143\n",
      "Average cost: 8.078174920059567e-07\n",
      "------------------------------------------------------------\n",
      "epoch: 85, Dev Set Accuracy: 0.9782000184059143\n",
      "Average cost: 8.06115256340871e-07\n",
      "------------------------------------------------------------\n",
      "epoch: 86, Dev Set Accuracy: 0.9782000184059143\n",
      "Average cost: 1.2271328244444936e-06\n",
      "------------------------------------------------------------\n",
      "epoch: 87, Dev Set Accuracy: 0.9782000184059143\n",
      "Average cost: 7.633617970832559e-07\n",
      "------------------------------------------------------------\n",
      "epoch: 88, Dev Set Accuracy: 0.9779999852180481\n",
      "Average cost: 1.0677901648937962e-06\n",
      "------------------------------------------------------------\n",
      "epoch: 89, Dev Set Accuracy: 0.9787999987602234\n",
      "Average cost: 9.529216778139736e-07\n",
      "------------------------------------------------------------\n",
      "epoch: 90, Dev Set Accuracy: 0.9787999987602234\n",
      "Average cost: 9.71453034232349e-07\n",
      "------------------------------------------------------------\n",
      "epoch: 91, Dev Set Accuracy: 0.9778000116348267\n",
      "Average cost: 1.8355930711380965e-06\n",
      "------------------------------------------------------------\n",
      "epoch: 92, Dev Set Accuracy: 0.9782000184059143\n",
      "Average cost: 1.146592914538328e-06\n",
      "------------------------------------------------------------\n",
      "epoch: 93, Dev Set Accuracy: 0.9782000184059143\n",
      "Average cost: 1.4114074495642683e-06\n",
      "------------------------------------------------------------\n",
      "epoch: 94, Dev Set Accuracy: 0.978600025177002\n",
      "Average cost: 2.133601946149801e-06\n",
      "------------------------------------------------------------\n",
      "epoch: 95, Dev Set Accuracy: 0.9789999723434448\n",
      "Average cost: 9.077867130250778e-07\n",
      "------------------------------------------------------------\n",
      "epoch: 96, Dev Set Accuracy: 0.9787999987602234\n",
      "Average cost: 9.093753760680557e-07\n",
      "------------------------------------------------------------\n",
      "epoch: 97, Dev Set Accuracy: 0.978600025177002\n",
      "Average cost: 1.0081499863719178e-06\n",
      "------------------------------------------------------------\n",
      "epoch: 98, Dev Set Accuracy: 0.9783999919891357\n",
      "Average cost: 1.2641182429222173e-06\n",
      "------------------------------------------------------------\n",
      "epoch: 99, Dev Set Accuracy: 0.978600025177002\n",
      "Average cost: 6.868526323286947e-07\n",
      "------------------------------------------------------------\n"
     ]
    },
    {
     "data": {
      "image/png": "[encoded data removed]",
      "text/plain": [
       "<Figure size 432x288 with 2 Axes>"
      ]
     },
     "metadata": {},
     "output_type": "display_data"
    }
   ],
   "source": [
    "if __name__ == '__main__':\n",
    "    net = Network(X_train, Y_train_oh, X_dev, Y_dev_oh, batch_size_train=128)\n",
    "    net.run()"
   ]
  }
 ],
 "metadata": {
  "kernelspec": {
   "display_name": "Python 3",
   "language": "python",
   "name": "python3"
  },
  "language_info": {
   "codemirror_mode": {
    "name": "ipython",
    "version": 3
   },
   "file_extension": ".py",
   "mimetype": "text/x-python",
   "name": "python",
   "nbconvert_exporter": "python",
   "pygments_lexer": "ipython3",
   "version": "3.6.5"
  }
 },
 "nbformat": 4,
 "nbformat_minor": 2
}
