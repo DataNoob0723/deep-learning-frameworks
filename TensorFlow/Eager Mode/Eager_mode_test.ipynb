{
 "cells": [
  {
   "cell_type": "code",
   "execution_count": 1,
   "metadata": {},
   "outputs": [
    {
     "name": "stderr",
     "output_type": "stream",
     "text": [
      "/anaconda3/lib/python3.6/site-packages/h5py/__init__.py:36: FutureWarning: Conversion of the second argument of issubdtype from `float` to `np.floating` is deprecated. In future, it will be treated as `np.float64 == np.dtype(float).type`.\n",
      "  from ._conv import register_converters as _register_converters\n"
     ]
    }
   ],
   "source": [
    "import tensorflow as tf\n",
    "import tensorflow.contrib.eager as tfe\n",
    "tfe.enable_eager_execution()"
   ]
  },
  {
   "cell_type": "code",
   "execution_count": 2,
   "metadata": {},
   "outputs": [
    {
     "name": "stdout",
     "output_type": "stream",
     "text": [
      "1.9.0\n"
     ]
    }
   ],
   "source": [
    "print(tf.__version__)"
   ]
  },
  {
   "cell_type": "code",
   "execution_count": 3,
   "metadata": {},
   "outputs": [],
   "source": [
    "import numpy as np"
   ]
  },
  {
   "cell_type": "code",
   "execution_count": 4,
   "metadata": {},
   "outputs": [
    {
     "name": "stdout",
     "output_type": "stream",
     "text": [
      "tf.Tensor([0 1 2 3 4 5 6 7 8 9], shape=(10,), dtype=int64)\n"
     ]
    }
   ],
   "source": [
    "# Simple example\n",
    "z = tf.constant(np.arange(10))\n",
    "print(z)"
   ]
  },
  {
   "cell_type": "code",
   "execution_count": 5,
   "metadata": {},
   "outputs": [
    {
     "name": "stdout",
     "output_type": "stream",
     "text": [
      "10\n"
     ]
    }
   ],
   "source": [
    "s = np.array(10)\n",
    "print(s)"
   ]
  },
  {
   "cell_type": "code",
   "execution_count": 6,
   "metadata": {},
   "outputs": [
    {
     "name": "stdout",
     "output_type": "stream",
     "text": [
      "tf.Tensor([ 0 10 20 30 40 50 60 70 80 90], shape=(10,), dtype=int64)\n"
     ]
    }
   ],
   "source": [
    "z_tf = tf.multiply(z, s)\n",
    "print(z_tf)"
   ]
  },
  {
   "cell_type": "code",
   "execution_count": 7,
   "metadata": {},
   "outputs": [
    {
     "name": "stdout",
     "output_type": "stream",
     "text": [
      "[<tf.Tensor: id=20, shape=(), dtype=float32, numpy=27.0>]\n",
      "tf.Tensor(27.0, shape=(), dtype=float32)\n",
      "27.0\n"
     ]
    }
   ],
   "source": [
    "\"\"\"\n",
    "Calculate gradients in TensorFlow Eager\n",
    "\"\"\"\n",
    "def f_cubed(x):\n",
    "    return x ** 3\n",
    "\n",
    "grad = tfe.gradients_function(f_cubed) # 3x^2\n",
    "print(grad(3.)) # Returns a list of Tensor\n",
    "print(grad(3.)[0])\n",
    "print(grad(3.)[0].numpy())"
   ]
  },
  {
   "cell_type": "code",
   "execution_count": 8,
   "metadata": {},
   "outputs": [
    {
     "name": "stdout",
     "output_type": "stream",
     "text": [
      "[0.  0.1 0.2 0.3 0.4 0.5 0.6 0.7 0.8 0.9 1.  1.1 1.2 1.3 1.4 1.5 1.6 1.7\n",
      " 1.8 1.9 2.  2.1 2.2 2.3 2.4 2.5 2.6 2.7 2.8 2.9 3.  3.1 3.2 3.3 3.4 3.5\n",
      " 3.6 3.7 3.8 3.9 4.  4.1 4.2 4.3 4.4 4.5 4.6 4.7 4.8 4.9]\n",
      "[  2.      1.761   1.448   1.067   0.624   0.125  -0.424  -1.017  -1.648\n",
      "  -2.311  -3.     -3.709  -4.432  -5.163  -5.896  -6.625  -7.344  -8.047\n",
      "  -8.728  -9.381 -10.    -10.579 -11.112 -11.593 -12.016 -12.375 -12.664\n",
      " -12.877 -13.008 -13.051 -13.    -12.849 -12.592 -12.223 -11.736 -11.125\n",
      " -10.384  -9.507  -8.488  -7.321  -6.     -4.519  -2.872  -1.053   0.944\n",
      "   3.125   5.496   8.063  10.832  13.809]\n"
     ]
    }
   ],
   "source": [
    "\"\"\"\n",
    "A polynomial line fitting example\n",
    "\"\"\"\n",
    "x = np.arange(0, 5, 0.1)\n",
    "print(x)\n",
    "y = x ** 3 - 4 * x ** 2 - 2 * x + 2\n",
    "print(y)"
   ]
  },
  {
   "cell_type": "code",
   "execution_count": 9,
   "metadata": {},
   "outputs": [
    {
     "name": "stdout",
     "output_type": "stream",
     "text": [
      "[  1.43537494   2.34175713  -0.58466004  -0.18913301   2.06213005\n",
      "   1.27274533   1.3167689    1.81448509   1.64180469   0.88138355\n",
      "  -0.65327266  -3.51579682  -4.53234997  -3.26960189  -4.76476711\n",
      "  -3.98403459  -5.6595497   -6.46192125  -7.13056312  -7.05269177\n",
      " -12.00391621  -8.51014407 -11.2522427  -10.61837511 -13.71245207\n",
      " -12.05033599 -11.62493691 -12.78182734 -13.84757979 -14.56323427\n",
      " -12.77886438 -14.14413277 -12.92460792 -10.1481038  -10.54094769\n",
      " -11.42751008 -10.39011455  -6.26785639  -8.96354427  -5.4177776\n",
      "  -7.0851433   -3.75019457  -3.65391737  -1.04892907   0.49088704\n",
      "   2.29677073   7.43342463   6.3138639   10.37735534  13.39631575]\n"
     ]
    }
   ],
   "source": [
    "y_noise = y + np.random.normal(0, 1.5, size=(len(x), ))\n",
    "print(y_noise)"
   ]
  },
  {
   "cell_type": "code",
   "execution_count": 11,
   "metadata": {},
   "outputs": [
    {
     "data": {
      "image/png": "[encoded data removed]",
      "text/plain": [
       "<Figure size 432x288 with 1 Axes>"
      ]
     },
     "metadata": {},
     "output_type": "display_data"
    }
   ],
   "source": [
    "import matplotlib.pyplot as plt\n",
    "plt.plot(x, y)\n",
    "plt.scatter(x, y_noise)\n",
    "plt.show()"
   ]
  },
  {
   "cell_type": "code",
   "execution_count": 12,
   "metadata": {},
   "outputs": [],
   "source": [
    "\"\"\"\n",
    "Define some useful functions\n",
    "\"\"\"\n",
    "def get_batch(x, y, batch_size=20):\n",
    "    idxs = np.random.randint(0, len(x), batch_size)\n",
    "    return x[idxs], y[idxs]\n",
    "\n",
    "class PolyModel(object):\n",
    "    def __init__(self):\n",
    "        self.w = tfe.Variable(tf.random_normal([4]))\n",
    "    \n",
    "    def f(self, x):\n",
    "        return self.w[0] * x ** 3 + self.w[1] * x ** 2 + self.w[2] * x + self.w[3]\n",
    "    \n",
    "def loss(model, x, y):\n",
    "    err = model.f(x) - y\n",
    "    return tf.reduce_mean(tf.square(err))"
   ]
  },
  {
   "cell_type": "code",
   "execution_count": 13,
   "metadata": {},
   "outputs": [
    {
     "name": "stdout",
     "output_type": "stream",
     "text": [
      "Iteration 1, loss: 891.1923828125\n",
      "Iteration 1001, loss: 83.82699584960938\n",
      "Iteration 2001, loss: 55.67718505859375\n",
      "Iteration 3001, loss: 36.95344924926758\n",
      "Iteration 4001, loss: 22.150930404663086\n",
      "Iteration 5001, loss: 22.940906524658203\n",
      "Iteration 6001, loss: 17.128955841064453\n",
      "Iteration 7001, loss: 17.089468002319336\n",
      "Iteration 8001, loss: 14.201647758483887\n",
      "Iteration 9001, loss: 10.274221420288086\n",
      "Iteration 10001, loss: 8.437150955200195\n",
      "Iteration 11001, loss: 6.740107536315918\n",
      "Iteration 12001, loss: 3.5904109477996826\n",
      "Iteration 13001, loss: 3.7451369762420654\n",
      "Iteration 14001, loss: 2.9400837421417236\n",
      "Iteration 15001, loss: 1.441570520401001\n",
      "Iteration 16001, loss: 1.5655500888824463\n",
      "Iteration 17001, loss: 0.5081464648246765\n",
      "Iteration 18001, loss: 0.6826947927474976\n",
      "Iteration 19001, loss: 0.42817091941833496\n"
     ]
    }
   ],
   "source": [
    "# Train the model\n",
    "model = PolyModel()\n",
    "grad = tfe.implicit_gradients(loss)\n",
    "optimizer = tf.train.AdamOptimizer()\n",
    "iters = 20000\n",
    "for i in range(iters):\n",
    "    x_batch, y_batch = get_batch(x, y)\n",
    "    optimizer.apply_gradients(grad(model, x_batch, y_batch))\n",
    "    if i % 1000 == 0:\n",
    "        print(f\"Iteration {i + 1}, loss: {loss(model, x_batch, y_batch).numpy()}\")"
   ]
  },
  {
   "cell_type": "code",
   "execution_count": 14,
   "metadata": {},
   "outputs": [
    {
     "data": {
      "image/png": "[encoded data removed]",
      "text/plain": [
       "<Figure size 432x288 with 1 Axes>"
      ]
     },
     "metadata": {},
     "output_type": "display_data"
    }
   ],
   "source": [
    "# Plot the result\n",
    "plt.plot(x, y)\n",
    "plt.plot(x, model.f(x).numpy())\n",
    "plt.scatter(x, y_noise)\n",
    "plt.show()"
   ]
  },
  {
   "cell_type": "code",
   "execution_count": 15,
   "metadata": {},
   "outputs": [],
   "source": [
    "\"\"\"\n",
    "A Neural Network with TensorFlow Eager\n",
    "\"\"\"\n",
    "mnist = tf.keras.datasets.mnist\n",
    "(X_train, Y_train), (X_test, Y_test) = mnist.load_data()"
   ]
  },
  {
   "cell_type": "code",
   "execution_count": 16,
   "metadata": {},
   "outputs": [
    {
     "name": "stdout",
     "output_type": "stream",
     "text": [
      "(60000, 28, 28)\n",
      "(60000,)\n",
      "(10000, 28, 28)\n",
      "(10000,)\n"
     ]
    }
   ],
   "source": [
    "print(X_train.shape)\n",
    "print(Y_train.shape)\n",
    "print(X_test.shape)\n",
    "print(Y_test.shape)"
   ]
  },
  {
   "cell_type": "code",
   "execution_count": 17,
   "metadata": {},
   "outputs": [],
   "source": [
    "# A function to scale the data\n",
    "def scale(x, min_val=0.0, max_val=255.0):\n",
    "    x = tf.to_float(x)\n",
    "    return tf.div(tf.subtract(x, min_val), tf.subtract(max_val, min_val))"
   ]
  },
  {
   "cell_type": "code",
   "execution_count": 18,
   "metadata": {},
   "outputs": [],
   "source": [
    "# Using TF Dataset API\n",
    "train_ds = tf.data.Dataset.from_tensor_slices((X_train, Y_train))\n",
    "train_ds = train_ds.map(lambda X, Y: (scale(X), tf.one_hot(Y, 10))).shuffle(10000).batch(30)\n",
    "test_ds = tf.data.Dataset.from_tensor_slices((X_test, Y_test))\n",
    "test_ds = test_ds.map(lambda X, Y: (scale(X), tf.one_hot(Y, 10))).shuffle(10000).batch(30)"
   ]
  },
  {
   "cell_type": "code",
   "execution_count": 19,
   "metadata": {},
   "outputs": [],
   "source": [
    "# Define the model\n",
    "class MNISTModel(tf.keras.Model):\n",
    "    def __init__(self, device='cpu:0'):\n",
    "        super(MNISTModel, self).__init__()\n",
    "        self.device = device\n",
    "        self._input_shape = (-1, 28, 28, 1)\n",
    "        self.conv1 = tf.layers.Conv2D(32, 5,\n",
    "                                      padding='same',\n",
    "                                      activation=tf.nn.relu)\n",
    "        self.max_pool2d = tf.layers.MaxPooling2D((2, 2), (2, 2), padding='same')\n",
    "        self.conv2 = tf.layers.Conv2D(64, 5,\n",
    "                                      padding='same',\n",
    "                                      activation=tf.nn.relu)\n",
    "        self.fc1 = tf.layers.Dense(750, activation=tf.nn.relu)\n",
    "        self.dropout = tf.layers.Dropout(0.5)\n",
    "        self.fc2 = tf.layers.Dense(10)\n",
    "\n",
    "    def call(self, X):\n",
    "        X = tf.reshape(X, self._input_shape)\n",
    "        X = self.max_pool2d(self.conv1(X))\n",
    "        X = self.max_pool2d(self.conv2(X))\n",
    "        X = tf.layers.flatten(X)\n",
    "        X = self.dropout(self.fc1(X))\n",
    "        return self.fc2(X)"
   ]
  },
  {
   "cell_type": "code",
   "execution_count": 20,
   "metadata": {},
   "outputs": [],
   "source": [
    "# Define the loss\n",
    "def loss_fn(model, X, Y):\n",
    "    return tf.reduce_mean(\n",
    "    tf.nn.softmax_cross_entropy_with_logits_v2(logits=model(X), labels=Y)\n",
    "    )"
   ]
  },
  {
   "cell_type": "code",
   "execution_count": 21,
   "metadata": {},
   "outputs": [],
   "source": [
    "# Calculate the accuracy\n",
    "def get_accuracy(model, X, Y_true):\n",
    "    logits = model(X)\n",
    "    prediction = tf.nn.softmax(logits)\n",
    "    prediction = tf.argmax(prediction, 1)\n",
    "    equality = tf.equal(prediction, tf.argmax(Y_true, 1))\n",
    "    accuracy = tf.reduce_mean(tf.cast(equality, tf.float32))\n",
    "    return accuracy"
   ]
  },
  {
   "cell_type": "code",
   "execution_count": 22,
   "metadata": {
    "scrolled": true
   },
   "outputs": [
    {
     "name": "stdout",
     "output_type": "stream",
     "text": [
      "Iteration 0, loss: 1.890453815460205, accuracy: 0.2666666805744171\n",
      "Iteration 10, loss: 1.0856778621673584, accuracy: 0.6666666865348816\n",
      "Iteration 20, loss: 0.6313592791557312, accuracy: 0.699999988079071\n",
      "Iteration 30, loss: 0.7978754639625549, accuracy: 0.800000011920929\n",
      "Iteration 40, loss: 0.35299840569496155, accuracy: 0.8999999761581421\n",
      "Iteration 50, loss: 0.21214130520820618, accuracy: 0.9666666388511658\n",
      "Iteration 60, loss: 0.28572311997413635, accuracy: 0.9333333373069763\n",
      "Iteration 70, loss: 0.25776660442352295, accuracy: 0.9666666388511658\n",
      "Iteration 80, loss: 0.12185333669185638, accuracy: 0.9666666388511658\n",
      "Iteration 90, loss: 0.15315580368041992, accuracy: 0.9666666388511658\n",
      "Iteration 100, loss: 0.08691634982824326, accuracy: 0.9666666388511658\n",
      "Iteration 110, loss: 0.08776883780956268, accuracy: 1.0\n",
      "Iteration 120, loss: 0.19949603080749512, accuracy: 0.9333333373069763\n",
      "Iteration 130, loss: 0.09362144768238068, accuracy: 0.9666666388511658\n",
      "Iteration 140, loss: 0.10187574476003647, accuracy: 0.9333333373069763\n",
      "Iteration 150, loss: 0.08677086234092712, accuracy: 0.9666666388511658\n",
      "Iteration 160, loss: 0.1334274858236313, accuracy: 0.9666666388511658\n",
      "Iteration 170, loss: 0.14627958834171295, accuracy: 0.9666666388511658\n",
      "Iteration 180, loss: 0.04575708135962486, accuracy: 1.0\n",
      "Iteration 190, loss: 0.02996251918375492, accuracy: 1.0\n",
      "Iteration 200, loss: 0.06332672387361526, accuracy: 1.0\n",
      "Iteration 210, loss: 0.12658871710300446, accuracy: 0.9666666388511658\n",
      "Iteration 220, loss: 0.1474776417016983, accuracy: 0.9333333373069763\n",
      "Iteration 230, loss: 0.08497297018766403, accuracy: 1.0\n",
      "Iteration 240, loss: 0.1969401091337204, accuracy: 0.8999999761581421\n",
      "Iteration 250, loss: 0.03147014603018761, accuracy: 1.0\n",
      "Iteration 260, loss: 0.09085885435342789, accuracy: 0.9666666388511658\n",
      "Iteration 270, loss: 0.036600299179553986, accuracy: 1.0\n",
      "Iteration 280, loss: 0.18846368789672852, accuracy: 0.9333333373069763\n",
      "Iteration 290, loss: 0.20004434883594513, accuracy: 0.9333333373069763\n",
      "Iteration 300, loss: 0.03162282705307007, accuracy: 1.0\n",
      "Iteration 310, loss: 0.02058747224509716, accuracy: 1.0\n",
      "Iteration 320, loss: 0.02883063070476055, accuracy: 1.0\n",
      "Iteration 330, loss: 0.16357897222042084, accuracy: 0.8999999761581421\n",
      "Iteration 340, loss: 0.02977784164249897, accuracy: 1.0\n",
      "Iteration 350, loss: 0.03932535648345947, accuracy: 1.0\n",
      "Iteration 360, loss: 0.0399622805416584, accuracy: 1.0\n",
      "Iteration 370, loss: 0.014495155774056911, accuracy: 1.0\n",
      "Iteration 380, loss: 0.08965368568897247, accuracy: 0.9666666388511658\n",
      "Iteration 390, loss: 0.03145112842321396, accuracy: 1.0\n",
      "Iteration 400, loss: 0.03177517279982567, accuracy: 1.0\n",
      "Iteration 410, loss: 0.033968087285757065, accuracy: 1.0\n",
      "Iteration 420, loss: 0.15401840209960938, accuracy: 0.9666666388511658\n",
      "Iteration 430, loss: 0.19228778779506683, accuracy: 0.9666666388511658\n",
      "Iteration 440, loss: 0.02049301750957966, accuracy: 1.0\n",
      "Iteration 450, loss: 0.0071627595461905, accuracy: 1.0\n",
      "Iteration 460, loss: 0.008233956061303616, accuracy: 1.0\n",
      "Iteration 470, loss: 0.016615765169262886, accuracy: 1.0\n",
      "Iteration 480, loss: 0.07496734708547592, accuracy: 0.9666666388511658\n",
      "Iteration 490, loss: 0.018253862857818604, accuracy: 1.0\n",
      "Iteration 500, loss: 0.022044235840439796, accuracy: 1.0\n",
      "Iteration 510, loss: 0.04549824446439743, accuracy: 0.9666666388511658\n",
      "Iteration 520, loss: 0.11836019903421402, accuracy: 0.9333333373069763\n",
      "Iteration 530, loss: 0.010924196802079678, accuracy: 1.0\n",
      "Iteration 540, loss: 0.08581729233264923, accuracy: 0.9666666388511658\n",
      "Iteration 550, loss: 0.028822626918554306, accuracy: 1.0\n",
      "Iteration 560, loss: 0.022416699677705765, accuracy: 1.0\n",
      "Iteration 570, loss: 0.022305669263005257, accuracy: 1.0\n",
      "Iteration 580, loss: 0.013052896596491337, accuracy: 1.0\n",
      "Iteration 590, loss: 0.12725040316581726, accuracy: 0.9666666388511658\n",
      "Iteration 600, loss: 0.021253643557429314, accuracy: 1.0\n",
      "Iteration 610, loss: 0.02199684828519821, accuracy: 1.0\n",
      "Iteration 620, loss: 0.014889487065374851, accuracy: 1.0\n",
      "Iteration 630, loss: 0.008175916038453579, accuracy: 1.0\n",
      "Iteration 640, loss: 0.00609251344576478, accuracy: 1.0\n",
      "Iteration 650, loss: 0.013053415343165398, accuracy: 1.0\n",
      "Iteration 660, loss: 0.09178388118743896, accuracy: 0.9666666388511658\n",
      "Iteration 670, loss: 0.008258982561528683, accuracy: 1.0\n",
      "Iteration 680, loss: 0.1735280156135559, accuracy: 0.9333333373069763\n",
      "Iteration 690, loss: 0.05658317729830742, accuracy: 0.9666666388511658\n",
      "Iteration 700, loss: 0.08263500779867172, accuracy: 0.9666666388511658\n",
      "Iteration 710, loss: 0.010323841124773026, accuracy: 1.0\n",
      "Iteration 720, loss: 0.04283672571182251, accuracy: 1.0\n",
      "Iteration 730, loss: 0.027227388694882393, accuracy: 1.0\n",
      "Iteration 740, loss: 0.019859401509165764, accuracy: 1.0\n",
      "Iteration 750, loss: 0.2027851790189743, accuracy: 0.9666666388511658\n",
      "Iteration 760, loss: 0.0027508996427059174, accuracy: 1.0\n",
      "Iteration 770, loss: 0.00440254295244813, accuracy: 1.0\n",
      "Iteration 780, loss: 0.024438241496682167, accuracy: 1.0\n",
      "Iteration 790, loss: 0.0058523486368358135, accuracy: 1.0\n",
      "Iteration 800, loss: 0.030341029167175293, accuracy: 1.0\n",
      "Iteration 810, loss: 0.04786311089992523, accuracy: 0.9666666388511658\n",
      "Iteration 820, loss: 0.016771545633673668, accuracy: 1.0\n",
      "Iteration 830, loss: 0.016899913549423218, accuracy: 1.0\n",
      "Iteration 840, loss: 0.21168775856494904, accuracy: 0.8999999761581421\n",
      "Iteration 850, loss: 0.02392166294157505, accuracy: 1.0\n",
      "Iteration 860, loss: 0.00427089910954237, accuracy: 1.0\n",
      "Iteration 870, loss: 0.019106902182102203, accuracy: 1.0\n",
      "Iteration 880, loss: 0.03788219392299652, accuracy: 1.0\n",
      "Iteration 890, loss: 0.06880618631839752, accuracy: 1.0\n",
      "Iteration 900, loss: 0.05000322312116623, accuracy: 0.9666666388511658\n",
      "Iteration 910, loss: 0.011542195454239845, accuracy: 1.0\n",
      "Iteration 920, loss: 0.0030124937184154987, accuracy: 1.0\n",
      "Iteration 930, loss: 0.021092763170599937, accuracy: 1.0\n",
      "Iteration 940, loss: 0.008911545388400555, accuracy: 1.0\n",
      "Iteration 950, loss: 0.016590334475040436, accuracy: 1.0\n",
      "Iteration 960, loss: 0.009626558050513268, accuracy: 1.0\n",
      "Iteration 970, loss: 0.10450782626867294, accuracy: 0.9666666388511658\n",
      "Iteration 980, loss: 0.09465949982404709, accuracy: 0.9666666388511658\n",
      "Iteration 990, loss: 0.007987882010638714, accuracy: 1.0\n",
      "Iteration 1000, loss: 0.0014265378704294562, accuracy: 1.0\n"
     ]
    }
   ],
   "source": [
    "# Train the model\n",
    "model = MNISTModel()\n",
    "optimizer = tf.train.AdamOptimizer()\n",
    "epochs = 1000\n",
    "for (batch, (images, labels)) in enumerate(train_ds):\n",
    "    with tfe.GradientTape() as tape:\n",
    "        loss = loss_fn(model, images, labels)\n",
    "    grads = tape.gradient(loss, model.variables)\n",
    "    optimizer.apply_gradients(zip(grads, model.variables), global_step=tf.train.get_or_create_global_step())\n",
    "    if batch % 10 == 0:\n",
    "        acc = get_accuracy(model, images, labels).numpy()\n",
    "        print(f\"Iteration {batch}, loss: {loss_fn(model, images, labels).numpy()}, accuracy: {acc}\")\n",
    "    if batch > epochs:\n",
    "        break"
   ]
  },
  {
   "cell_type": "code",
   "execution_count": 25,
   "metadata": {},
   "outputs": [
    {
     "name": "stdout",
     "output_type": "stream",
     "text": [
      "Iteration 100, Average test accuracy: 0.9953333246707916\n",
      "Iteration 200, Average test accuracy: 0.991333324611187\n",
      "Iteration 300, Average test accuracy: 0.9901111026604971\n",
      "Final test accuracy: 0.9899899816369867\n"
     ]
    }
   ],
   "source": [
    "# Calculate test set accuracy\n",
    "avg_acc = 0\n",
    "test_epochs = 20\n",
    "for (batch, (images, labels)) in enumerate(test_ds):\n",
    "    avg_acc += get_accuracy(model, images, labels).numpy()\n",
    "    if batch % 100 == 0 and batch != 0:\n",
    "        print(f\"Iteration {batch}, Average test accuracy: {avg_acc / batch}\")\n",
    "print(f\"Final test accuracy: {avg_acc / batch}\")"
   ]
  }
 ],
 "metadata": {
  "kernelspec": {
   "display_name": "Python 3",
   "language": "python",
   "name": "python3"
  },
  "language_info": {
   "codemirror_mode": {
    "name": "ipython",
    "version": 3
   },
   "file_extension": ".py",
   "mimetype": "text/x-python",
   "name": "python",
   "nbconvert_exporter": "python",
   "pygments_lexer": "ipython3",
   "version": "3.6.5"
  }
 },
 "nbformat": 4,
 "nbformat_minor": 2
}
